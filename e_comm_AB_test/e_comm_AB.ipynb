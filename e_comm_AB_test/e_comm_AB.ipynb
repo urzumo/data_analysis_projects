{
 "cells": [
  {
   "cell_type": "markdown",
   "id": "b3564c6c",
   "metadata": {
    "toc": true
   },
   "source": [
    "<h1>Table of Contents<span class=\"tocSkip\"></span></h1>\n",
    "<div class=\"toc\"><ul class=\"toc-item\"><li><span><a href=\"#План-исследования\" data-toc-modified-id=\"План-исследования-1\"><span class=\"toc-item-num\">1&nbsp;&nbsp;</span>План исследования</a></span><ul class=\"toc-item\"><li><span><a href=\"#Вводные-данные\" data-toc-modified-id=\"Вводные-данные-1.1\"><span class=\"toc-item-num\">1.1&nbsp;&nbsp;</span>Вводные данные</a></span></li><li><span><a href=\"#Ход-исследования\" data-toc-modified-id=\"Ход-исследования-1.2\"><span class=\"toc-item-num\">1.2&nbsp;&nbsp;</span>Ход исследования</a></span></li></ul></li><li><span><a href=\"#Обзор-данных\" data-toc-modified-id=\"Обзор-данных-2\"><span class=\"toc-item-num\">2&nbsp;&nbsp;</span>Обзор данных</a></span><ul class=\"toc-item\"><li><span><a href=\"#Загрузка-данных\" data-toc-modified-id=\"Загрузка-данных-2.1\"><span class=\"toc-item-num\">2.1&nbsp;&nbsp;</span>Загрузка данных</a></span></li><li><span><a href=\"#Описание-данных\" data-toc-modified-id=\"Описание-данных-2.2\"><span class=\"toc-item-num\">2.2&nbsp;&nbsp;</span>Описание данных</a></span></li></ul></li><li><span><a href=\"#Приоритизация-гипотез\" data-toc-modified-id=\"Приоритизация-гипотез-3\"><span class=\"toc-item-num\">3&nbsp;&nbsp;</span>Приоритизация гипотез</a></span><ul class=\"toc-item\"><li><span><a href=\"#Предобработка-данных\" data-toc-modified-id=\"Предобработка-данных-3.1\"><span class=\"toc-item-num\">3.1&nbsp;&nbsp;</span>Предобработка данных</a></span></li><li><span><a href=\"#Приоритизация-по-ICE\" data-toc-modified-id=\"Приоритизация-по-ICE-3.2\"><span class=\"toc-item-num\">3.2&nbsp;&nbsp;</span>Приоритизация по ICE</a></span></li><li><span><a href=\"#Приоритизация-по-RICE\" data-toc-modified-id=\"Приоритизация-по-RICE-3.3\"><span class=\"toc-item-num\">3.3&nbsp;&nbsp;</span>Приоритизация по RICE</a></span></li><li><span><a href=\"#Анализ-гипотез-по-ICE-и-RICE\" data-toc-modified-id=\"Анализ-гипотез-по-ICE-и-RICE-3.4\"><span class=\"toc-item-num\">3.4&nbsp;&nbsp;</span>Анализ гипотез по ICE и RICE</a></span></li></ul></li><li><span><a href=\"#Анализ-А/В-теста\" data-toc-modified-id=\"Анализ-А/В-теста-4\"><span class=\"toc-item-num\">4&nbsp;&nbsp;</span>Анализ А/В-теста</a></span><ul class=\"toc-item\"><li><span><a href=\"#Предобработка-данных\" data-toc-modified-id=\"Предобработка-данных-4.1\"><span class=\"toc-item-num\">4.1&nbsp;&nbsp;</span>Предобработка данных</a></span></li><li><span><a href=\"#Кумулятивная-выручка-по-группам\" data-toc-modified-id=\"Кумулятивная-выручка-по-группам-4.2\"><span class=\"toc-item-num\">4.2&nbsp;&nbsp;</span>Кумулятивная выручка по группам</a></span></li><li><span><a href=\"#Кумулятивный-средний-чек-по-группам\" data-toc-modified-id=\"Кумулятивный-средний-чек-по-группам-4.3\"><span class=\"toc-item-num\">4.3&nbsp;&nbsp;</span>Кумулятивный средний чек по группам</a></span></li><li><span><a href=\"#Относительное-изменение-кумулятивного-среднего-чека-группы-B-к-группе-A\" data-toc-modified-id=\"Относительное-изменение-кумулятивного-среднего-чека-группы-B-к-группе-A-4.4\"><span class=\"toc-item-num\">4.4&nbsp;&nbsp;</span>Относительное изменение кумулятивного среднего чека группы B к группе A</a></span></li><li><span><a href=\"#Кумулятивная-конверсия-по-группам\" data-toc-modified-id=\"Кумулятивная-конверсия-по-группам-4.5\"><span class=\"toc-item-num\">4.5&nbsp;&nbsp;</span>Кумулятивная конверсия по группам</a></span></li><li><span><a href=\"#Относительное-изменение-кумулятивной-конверсии\" data-toc-modified-id=\"Относительное-изменение-кумулятивной-конверсии-4.6\"><span class=\"toc-item-num\">4.6&nbsp;&nbsp;</span>Относительное изменение кумулятивной конверсии</a></span></li><li><span><a href=\"#Точечный-график-количества-заказов-по-пользователям\" data-toc-modified-id=\"Точечный-график-количества-заказов-по-пользователям-4.7\"><span class=\"toc-item-num\">4.7&nbsp;&nbsp;</span>Точечный график количества заказов по пользователям</a></span></li><li><span><a href=\"#Перцентили-заказов.-Аномальные-пользователи\" data-toc-modified-id=\"Перцентили-заказов.-Аномальные-пользователи-4.8\"><span class=\"toc-item-num\">4.8&nbsp;&nbsp;</span>Перцентили заказов. Аномальные пользователи</a></span></li><li><span><a href=\"#Точечный-график-стоимости-заказа\" data-toc-modified-id=\"Точечный-график-стоимости-заказа-4.9\"><span class=\"toc-item-num\">4.9&nbsp;&nbsp;</span>Точечный график стоимости заказа</a></span></li><li><span><a href=\"#Перцентили-стоимости-заказов.-Аномальные-заказы\" data-toc-modified-id=\"Перцентили-стоимости-заказов.-Аномальные-заказы-4.10\"><span class=\"toc-item-num\">4.10&nbsp;&nbsp;</span>Перцентили стоимости заказов. Аномальные заказы</a></span></li><li><span><a href=\"#Формирование-гипотез-для-анализа-А/В-теста\" data-toc-modified-id=\"Формирование-гипотез-для-анализа-А/В-теста-4.11\"><span class=\"toc-item-num\">4.11&nbsp;&nbsp;</span>Формирование гипотез для анализа А/В-теста</a></span><ul class=\"toc-item\"><li><span><a href=\"#Гипотезы-для-конверсии\" data-toc-modified-id=\"Гипотезы-для-конверсии-4.11.1\"><span class=\"toc-item-num\">4.11.1&nbsp;&nbsp;</span>Гипотезы для конверсии</a></span></li><li><span><a href=\"#Гипотезы-для-среднего-чека\" data-toc-modified-id=\"Гипотезы-для-среднего-чека-4.11.2\"><span class=\"toc-item-num\">4.11.2&nbsp;&nbsp;</span>Гипотезы для среднего чека</a></span></li></ul></li><li><span><a href=\"#Статистическая-значимость-в-конверсии-по-сырым-данным\" data-toc-modified-id=\"Статистическая-значимость-в-конверсии-по-сырым-данным-4.12\"><span class=\"toc-item-num\">4.12&nbsp;&nbsp;</span>Статистическая значимость в конверсии по сырым данным</a></span></li><li><span><a href=\"#Статистическая-значимость-в-среднем-чеке-по-сырым-данным\" data-toc-modified-id=\"Статистическая-значимость-в-среднем-чеке-по-сырым-данным-4.13\"><span class=\"toc-item-num\">4.13&nbsp;&nbsp;</span>Статистическая значимость в среднем чеке по сырым данным</a></span></li><li><span><a href=\"#Статистическая-значимость-в-конверсии-по-очищенным-данным\" data-toc-modified-id=\"Статистическая-значимость-в-конверсии-по-очищенным-данным-4.14\"><span class=\"toc-item-num\">4.14&nbsp;&nbsp;</span>Статистическая значимость в конверсии по очищенным данным</a></span><ul class=\"toc-item\"><li><span><a href=\"#Очистка-данных\" data-toc-modified-id=\"Очистка-данных-4.14.1\"><span class=\"toc-item-num\">4.14.1&nbsp;&nbsp;</span>Очистка данных</a></span></li><li><span><a href=\"#Оценка-статистического-влияния\" data-toc-modified-id=\"Оценка-статистического-влияния-4.14.2\"><span class=\"toc-item-num\">4.14.2&nbsp;&nbsp;</span>Оценка статистического влияния</a></span></li></ul></li><li><span><a href=\"#Статистическая-значимость-в-среднем-чеке-по-очищенным-данным\" data-toc-modified-id=\"Статистическая-значимость-в-среднем-чеке-по-очищенным-данным-4.15\"><span class=\"toc-item-num\">4.15&nbsp;&nbsp;</span>Статистическая значимость в среднем чеке по очищенным данным</a></span></li><li><span><a href=\"#Анализ-результатов-теста\" data-toc-modified-id=\"Анализ-результатов-теста-4.16\"><span class=\"toc-item-num\">4.16&nbsp;&nbsp;</span>Анализ результатов теста</a></span></li></ul></li></ul></div>"
   ]
  },
  {
   "cell_type": "markdown",
   "id": "a1129a23",
   "metadata": {},
   "source": [
    "# АНАЛИЗ А/В-ТЕСТА И ГИПОТЕЗ ПО УВЕЛИЧЕНИЮ ВЫРУЧКИ"
   ]
  },
  {
   "cell_type": "markdown",
   "id": "9fae4316",
   "metadata": {},
   "source": [
    "## План исследования"
   ]
  },
  {
   "cell_type": "markdown",
   "id": "de7888dd",
   "metadata": {},
   "source": [
    "### Вводные данные"
   ]
  },
  {
   "cell_type": "markdown",
   "id": "d503a194",
   "metadata": {},
   "source": [
    "Заказчиком исследования выступает интернет-магазин. Совместно с отделом маркетинга был подготовлен список гипотез для увеличения выручки. \n",
    "\n",
    "**Цели исследования:**\n",
    "\n",
    "Необходимо приоритизировать гипотезы, запустить A/B-тест и проанализировать результаты."
   ]
  },
  {
   "cell_type": "markdown",
   "id": "4eea4ba0",
   "metadata": {},
   "source": [
    "Данные и описание их содержания предоставлены заказчиком. О качестве данных ничего не известно."
   ]
  },
  {
   "cell_type": "markdown",
   "id": "a5c8f104",
   "metadata": {},
   "source": [
    "### Ход исследования"
   ]
  },
  {
   "cell_type": "markdown",
   "id": "74aa569d",
   "metadata": {},
   "source": [
    "**Часть 1. Приоритизация гипотез**\n",
    "\n",
    "1. Применить фреймворк ICE для приоритизации гипотез. Отсортировать их по убыванию приоритета.\n",
    "2. Применить фреймворк RICE для приоритизации гипотез. Отсортировать их по убыванию приоритета.\n",
    "3. Указать, как изменилась приоритизация гипотез при применении RICE вместо ICE. Объяснить, почему так произошло."
   ]
  },
  {
   "cell_type": "markdown",
   "id": "aeddab29",
   "metadata": {},
   "source": [
    "**Часть 2. Анализ A/B-теста**\n",
    "\n",
    "Проанализировать A/B-тест. Подготовить выводы и предположение по следующим пунктам:\n",
    "1. Построить график кумулятивной выручки по группам.\n",
    "2. Построить график кумулятивного среднего чека по группам. \n",
    "3. Построить график относительного изменения кумулятивного среднего чека группы B к группе A. \n",
    "4. Построить график кумулятивной конверсии по группам. \n",
    "5. Построить график относительного изменения кумулятивной конверсии группы B к группе A. \n",
    "6. Построить точечный график количества заказов по пользователям. \n",
    "7. Посчитать 95-й и 99-й перцентили количества заказов на пользователя. Выбрать границу для определения аномальных пользователей.\n",
    "8. Построить точечный график стоимостей заказов. \n",
    "9. Посчитать 95-й и 99-й перцентили стоимости заказов. Выбрать границу для определения аномальных заказов.\n",
    "10. Посчитать статистическую значимость различий в конверсии между группами по «сырым» данным. \n",
    "11. Посчитать статистическую значимость различий в среднем чеке заказа между группами по «сырым» данным. \n",
    "12. Посчитать статистическую значимость различий в конверсии между группами по «очищенным» данным.\n",
    "13. Посчитать статистическую значимость различий в среднем чеке заказа между группами по «очищенным» данным. \n",
    "14. Принять решение по результатам теста и объясните его. Варианты решений: 1. Остановить тест, зафиксировать победу одной из групп. 2. Остановить тест, зафиксировать отсутствие различий между группами. 3. Продолжить тест."
   ]
  },
  {
   "cell_type": "markdown",
   "id": "848addee",
   "metadata": {},
   "source": [
    "## Обзор данных"
   ]
  },
  {
   "cell_type": "markdown",
   "id": "49f0f3d0",
   "metadata": {},
   "source": [
    "### Загрузка данных"
   ]
  },
  {
   "cell_type": "code",
   "execution_count": 1,
   "id": "edd3adcc",
   "metadata": {},
   "outputs": [
    {
     "name": "stderr",
     "output_type": "stream",
     "text": [
      "In C:\\Users\\1\\anaconda3\\envs\\praktikum\\lib\\site-packages\\matplotlib\\mpl-data\\stylelib\\_classic_test.mplstyle: \n",
      "The text.latex.preview rcparam was deprecated in Matplotlib 3.3 and will be removed two minor releases later.\n",
      "In C:\\Users\\1\\anaconda3\\envs\\praktikum\\lib\\site-packages\\matplotlib\\mpl-data\\stylelib\\_classic_test.mplstyle: \n",
      "The mathtext.fallback_to_cm rcparam was deprecated in Matplotlib 3.3 and will be removed two minor releases later.\n",
      "In C:\\Users\\1\\anaconda3\\envs\\praktikum\\lib\\site-packages\\matplotlib\\mpl-data\\stylelib\\_classic_test.mplstyle: Support for setting the 'mathtext.fallback_to_cm' rcParam is deprecated since 3.3 and will be removed two minor releases later; use 'mathtext.fallback : 'cm' instead.\n",
      "In C:\\Users\\1\\anaconda3\\envs\\praktikum\\lib\\site-packages\\matplotlib\\mpl-data\\stylelib\\_classic_test.mplstyle: \n",
      "The validate_bool_maybe_none function was deprecated in Matplotlib 3.3 and will be removed two minor releases later.\n",
      "In C:\\Users\\1\\anaconda3\\envs\\praktikum\\lib\\site-packages\\matplotlib\\mpl-data\\stylelib\\_classic_test.mplstyle: \n",
      "The savefig.jpeg_quality rcparam was deprecated in Matplotlib 3.3 and will be removed two minor releases later.\n",
      "In C:\\Users\\1\\anaconda3\\envs\\praktikum\\lib\\site-packages\\matplotlib\\mpl-data\\stylelib\\_classic_test.mplstyle: \n",
      "The keymap.all_axes rcparam was deprecated in Matplotlib 3.3 and will be removed two minor releases later.\n",
      "In C:\\Users\\1\\anaconda3\\envs\\praktikum\\lib\\site-packages\\matplotlib\\mpl-data\\stylelib\\_classic_test.mplstyle: \n",
      "The animation.avconv_path rcparam was deprecated in Matplotlib 3.3 and will be removed two minor releases later.\n",
      "In C:\\Users\\1\\anaconda3\\envs\\praktikum\\lib\\site-packages\\matplotlib\\mpl-data\\stylelib\\_classic_test.mplstyle: \n",
      "The animation.avconv_args rcparam was deprecated in Matplotlib 3.3 and will be removed two minor releases later.\n",
      "C:\\Users\\1\\anaconda3\\envs\\praktikum\\lib\\site-packages\\statsmodels\\tools\\_testing.py:19: FutureWarning: pandas.util.testing is deprecated. Use the functions in the public API at pandas.testing instead.\n",
      "  import pandas.util.testing as tm\n"
     ]
    }
   ],
   "source": [
    "# импортируем необходимые нам библиотеки для работы с данными\n",
    "import pandas as pd\n",
    "\n",
    "# установим настройки отображения столбцов\n",
    "pd.set_option('max_colwidth', 400)\n",
    "\n",
    "import matplotlib.pyplot as plt\n",
    "import matplotlib.dates as mdates\n",
    "\n",
    "import seaborn as sns\n",
    "\n",
    "import numpy as np\n",
    "\n",
    "import scipy.stats as stats\n",
    "import datetime as dt\n",
    "import warnings\n",
    "warnings.filterwarnings(\"ignore\")"
   ]
  },
  {
   "cell_type": "code",
   "execution_count": 2,
   "id": "f51ce0d2",
   "metadata": {},
   "outputs": [],
   "source": [
    "# читаем файл и сохраняем в переменные дальнейшей работы, в том числе изменений\n",
    "# используем оператор обработки исключений, чтобы избежать ошибки, при открытии данных,\n",
    "# расположенных по другому адресу (мы храним данные в папке с тетрадью)\n",
    "\n",
    "try:\n",
    "    hypothesis = pd.read_csv('/datasets/hypothesis.csv')\n",
    "except:\n",
    "    hypothesis = pd.read_csv('hypothesis.csv')\n",
    "    \n",
    "try:\n",
    "    orders = pd.read_csv('/datasets/orders.csv')\n",
    "except:\n",
    "    orders = pd.read_csv('orders.csv')\n",
    "\n",
    "try:\n",
    "    visitors = pd.read_csv('/datasets/visitors.csv')\n",
    "except:\n",
    "    visitors = pd.read_csv('visitors.csv')\n",
    "\n",
    "# сохраним данные в переменную df_control для контроля вносимых изменений\n",
    "# сохраним переменную df_control неизменной\n",
    "    \n",
    "try:\n",
    "    hypothesis_control = pd.read_csv('/datasets/hypothesis.csv')\n",
    "except:\n",
    "    hypothesis_control = pd.read_csv('hypothesis.csv')\n",
    "    \n",
    "try:\n",
    "    orders_control = pd.read_csv('/datasets/orders.csv')\n",
    "except:\n",
    "    orders_control = pd.read_csv('orders.csv')\n",
    "\n",
    "try:\n",
    "    visitors_control = pd.read_csv('/datasets/visitors.csv')\n",
    "except:\n",
    "    visitors_control = pd.read_csv('visitors.csv')"
   ]
  },
  {
   "cell_type": "code",
   "execution_count": 3,
   "id": "6ab8b864",
   "metadata": {},
   "outputs": [
    {
     "data": {
      "text/html": [
       "<div>\n",
       "<style scoped>\n",
       "    .dataframe tbody tr th:only-of-type {\n",
       "        vertical-align: middle;\n",
       "    }\n",
       "\n",
       "    .dataframe tbody tr th {\n",
       "        vertical-align: top;\n",
       "    }\n",
       "\n",
       "    .dataframe thead th {\n",
       "        text-align: right;\n",
       "    }\n",
       "</style>\n",
       "<table border=\"1\" class=\"dataframe\">\n",
       "  <thead>\n",
       "    <tr style=\"text-align: right;\">\n",
       "      <th></th>\n",
       "      <th>Hypothesis</th>\n",
       "      <th>Reach</th>\n",
       "      <th>Impact</th>\n",
       "      <th>Confidence</th>\n",
       "      <th>Efforts</th>\n",
       "    </tr>\n",
       "  </thead>\n",
       "  <tbody>\n",
       "    <tr>\n",
       "      <th>8</th>\n",
       "      <td>Запустить акцию, дающую скидку на товар в день рождения</td>\n",
       "      <td>1</td>\n",
       "      <td>9</td>\n",
       "      <td>9</td>\n",
       "      <td>5</td>\n",
       "    </tr>\n",
       "    <tr>\n",
       "      <th>2</th>\n",
       "      <td>Добавить блоки рекомендаций товаров на сайт интернет магазина, чтобы повысить конверсию и средний чек заказа</td>\n",
       "      <td>8</td>\n",
       "      <td>3</td>\n",
       "      <td>7</td>\n",
       "      <td>3</td>\n",
       "    </tr>\n",
       "    <tr>\n",
       "      <th>6</th>\n",
       "      <td>Показать на главной странице баннеры с актуальными акциями и распродажами, чтобы увеличить конверсию</td>\n",
       "      <td>5</td>\n",
       "      <td>3</td>\n",
       "      <td>8</td>\n",
       "      <td>3</td>\n",
       "    </tr>\n",
       "    <tr>\n",
       "      <th>7</th>\n",
       "      <td>Добавить форму подписки на все основные страницы, чтобы собрать базу клиентов для email-рассылок</td>\n",
       "      <td>10</td>\n",
       "      <td>7</td>\n",
       "      <td>8</td>\n",
       "      <td>5</td>\n",
       "    </tr>\n",
       "    <tr>\n",
       "      <th>1</th>\n",
       "      <td>Запустить собственную службу доставки, что сократит срок доставки заказов</td>\n",
       "      <td>2</td>\n",
       "      <td>5</td>\n",
       "      <td>4</td>\n",
       "      <td>10</td>\n",
       "    </tr>\n",
       "  </tbody>\n",
       "</table>\n",
       "</div>"
      ],
      "text/plain": [
       "                                                                                                     Hypothesis  \\\n",
       "8                                                       Запустить акцию, дающую скидку на товар в день рождения   \n",
       "2  Добавить блоки рекомендаций товаров на сайт интернет магазина, чтобы повысить конверсию и средний чек заказа   \n",
       "6          Показать на главной странице баннеры с актуальными акциями и распродажами, чтобы увеличить конверсию   \n",
       "7              Добавить форму подписки на все основные страницы, чтобы собрать базу клиентов для email-рассылок   \n",
       "1                                     Запустить собственную службу доставки, что сократит срок доставки заказов   \n",
       "\n",
       "   Reach  Impact  Confidence  Efforts  \n",
       "8      1       9           9        5  \n",
       "2      8       3           7        3  \n",
       "6      5       3           8        3  \n",
       "7     10       7           8        5  \n",
       "1      2       5           4       10  "
      ]
     },
     "metadata": {},
     "output_type": "display_data"
    },
    {
     "name": "stdout",
     "output_type": "stream",
     "text": [
      "=============================================\n"
     ]
    },
    {
     "data": {
      "text/html": [
       "<div>\n",
       "<style scoped>\n",
       "    .dataframe tbody tr th:only-of-type {\n",
       "        vertical-align: middle;\n",
       "    }\n",
       "\n",
       "    .dataframe tbody tr th {\n",
       "        vertical-align: top;\n",
       "    }\n",
       "\n",
       "    .dataframe thead th {\n",
       "        text-align: right;\n",
       "    }\n",
       "</style>\n",
       "<table border=\"1\" class=\"dataframe\">\n",
       "  <thead>\n",
       "    <tr style=\"text-align: right;\">\n",
       "      <th></th>\n",
       "      <th>transactionId</th>\n",
       "      <th>visitorId</th>\n",
       "      <th>date</th>\n",
       "      <th>revenue</th>\n",
       "      <th>group</th>\n",
       "    </tr>\n",
       "  </thead>\n",
       "  <tbody>\n",
       "    <tr>\n",
       "      <th>886</th>\n",
       "      <td>51443164</td>\n",
       "      <td>4278982564</td>\n",
       "      <td>2019-08-05</td>\n",
       "      <td>24744</td>\n",
       "      <td>A</td>\n",
       "    </tr>\n",
       "    <tr>\n",
       "      <th>1093</th>\n",
       "      <td>3894437543</td>\n",
       "      <td>276558944</td>\n",
       "      <td>2019-08-12</td>\n",
       "      <td>5050</td>\n",
       "      <td>A</td>\n",
       "    </tr>\n",
       "    <tr>\n",
       "      <th>801</th>\n",
       "      <td>504373597</td>\n",
       "      <td>2604012846</td>\n",
       "      <td>2019-08-05</td>\n",
       "      <td>890</td>\n",
       "      <td>B</td>\n",
       "    </tr>\n",
       "    <tr>\n",
       "      <th>189</th>\n",
       "      <td>4189935502</td>\n",
       "      <td>1648269707</td>\n",
       "      <td>2019-08-17</td>\n",
       "      <td>290</td>\n",
       "      <td>B</td>\n",
       "    </tr>\n",
       "    <tr>\n",
       "      <th>808</th>\n",
       "      <td>2344401705</td>\n",
       "      <td>366673373</td>\n",
       "      <td>2019-08-05</td>\n",
       "      <td>1460</td>\n",
       "      <td>A</td>\n",
       "    </tr>\n",
       "  </tbody>\n",
       "</table>\n",
       "</div>"
      ],
      "text/plain": [
       "      transactionId   visitorId        date  revenue group\n",
       "886        51443164  4278982564  2019-08-05    24744     A\n",
       "1093     3894437543   276558944  2019-08-12     5050     A\n",
       "801       504373597  2604012846  2019-08-05      890     B\n",
       "189      4189935502  1648269707  2019-08-17      290     B\n",
       "808      2344401705   366673373  2019-08-05     1460     A"
      ]
     },
     "metadata": {},
     "output_type": "display_data"
    },
    {
     "name": "stdout",
     "output_type": "stream",
     "text": [
      "=============================================\n"
     ]
    },
    {
     "data": {
      "text/html": [
       "<div>\n",
       "<style scoped>\n",
       "    .dataframe tbody tr th:only-of-type {\n",
       "        vertical-align: middle;\n",
       "    }\n",
       "\n",
       "    .dataframe tbody tr th {\n",
       "        vertical-align: top;\n",
       "    }\n",
       "\n",
       "    .dataframe thead th {\n",
       "        text-align: right;\n",
       "    }\n",
       "</style>\n",
       "<table border=\"1\" class=\"dataframe\">\n",
       "  <thead>\n",
       "    <tr style=\"text-align: right;\">\n",
       "      <th></th>\n",
       "      <th>date</th>\n",
       "      <th>group</th>\n",
       "      <th>visitors</th>\n",
       "    </tr>\n",
       "  </thead>\n",
       "  <tbody>\n",
       "    <tr>\n",
       "      <th>21</th>\n",
       "      <td>2019-08-22</td>\n",
       "      <td>A</td>\n",
       "      <td>609</td>\n",
       "    </tr>\n",
       "    <tr>\n",
       "      <th>52</th>\n",
       "      <td>2019-08-22</td>\n",
       "      <td>B</td>\n",
       "      <td>650</td>\n",
       "    </tr>\n",
       "    <tr>\n",
       "      <th>38</th>\n",
       "      <td>2019-08-08</td>\n",
       "      <td>B</td>\n",
       "      <td>654</td>\n",
       "    </tr>\n",
       "    <tr>\n",
       "      <th>24</th>\n",
       "      <td>2019-08-25</td>\n",
       "      <td>A</td>\n",
       "      <td>621</td>\n",
       "    </tr>\n",
       "    <tr>\n",
       "      <th>2</th>\n",
       "      <td>2019-08-03</td>\n",
       "      <td>A</td>\n",
       "      <td>507</td>\n",
       "    </tr>\n",
       "  </tbody>\n",
       "</table>\n",
       "</div>"
      ],
      "text/plain": [
       "          date group  visitors\n",
       "21  2019-08-22     A       609\n",
       "52  2019-08-22     B       650\n",
       "38  2019-08-08     B       654\n",
       "24  2019-08-25     A       621\n",
       "2   2019-08-03     A       507"
      ]
     },
     "metadata": {},
     "output_type": "display_data"
    },
    {
     "name": "stdout",
     "output_type": "stream",
     "text": [
      "=============================================\n"
     ]
    },
    {
     "data": {
      "text/html": [
       "<div>\n",
       "<style scoped>\n",
       "    .dataframe tbody tr th:only-of-type {\n",
       "        vertical-align: middle;\n",
       "    }\n",
       "\n",
       "    .dataframe tbody tr th {\n",
       "        vertical-align: top;\n",
       "    }\n",
       "\n",
       "    .dataframe thead th {\n",
       "        text-align: right;\n",
       "    }\n",
       "</style>\n",
       "<table border=\"1\" class=\"dataframe\">\n",
       "  <thead>\n",
       "    <tr style=\"text-align: right;\">\n",
       "      <th></th>\n",
       "      <th>Hypothesis</th>\n",
       "      <th>Reach</th>\n",
       "      <th>Impact</th>\n",
       "      <th>Confidence</th>\n",
       "      <th>Efforts</th>\n",
       "    </tr>\n",
       "  </thead>\n",
       "  <tbody>\n",
       "    <tr>\n",
       "      <th>8</th>\n",
       "      <td>Запустить акцию, дающую скидку на товар в день рождения</td>\n",
       "      <td>1</td>\n",
       "      <td>9</td>\n",
       "      <td>9</td>\n",
       "      <td>5</td>\n",
       "    </tr>\n",
       "    <tr>\n",
       "      <th>2</th>\n",
       "      <td>Добавить блоки рекомендаций товаров на сайт интернет магазина, чтобы повысить конверсию и средний чек заказа</td>\n",
       "      <td>8</td>\n",
       "      <td>3</td>\n",
       "      <td>7</td>\n",
       "      <td>3</td>\n",
       "    </tr>\n",
       "    <tr>\n",
       "      <th>6</th>\n",
       "      <td>Показать на главной странице баннеры с актуальными акциями и распродажами, чтобы увеличить конверсию</td>\n",
       "      <td>5</td>\n",
       "      <td>3</td>\n",
       "      <td>8</td>\n",
       "      <td>3</td>\n",
       "    </tr>\n",
       "    <tr>\n",
       "      <th>7</th>\n",
       "      <td>Добавить форму подписки на все основные страницы, чтобы собрать базу клиентов для email-рассылок</td>\n",
       "      <td>10</td>\n",
       "      <td>7</td>\n",
       "      <td>8</td>\n",
       "      <td>5</td>\n",
       "    </tr>\n",
       "    <tr>\n",
       "      <th>1</th>\n",
       "      <td>Запустить собственную службу доставки, что сократит срок доставки заказов</td>\n",
       "      <td>2</td>\n",
       "      <td>5</td>\n",
       "      <td>4</td>\n",
       "      <td>10</td>\n",
       "    </tr>\n",
       "  </tbody>\n",
       "</table>\n",
       "</div>"
      ],
      "text/plain": [
       "                                                                                                     Hypothesis  \\\n",
       "8                                                       Запустить акцию, дающую скидку на товар в день рождения   \n",
       "2  Добавить блоки рекомендаций товаров на сайт интернет магазина, чтобы повысить конверсию и средний чек заказа   \n",
       "6          Показать на главной странице баннеры с актуальными акциями и распродажами, чтобы увеличить конверсию   \n",
       "7              Добавить форму подписки на все основные страницы, чтобы собрать базу клиентов для email-рассылок   \n",
       "1                                     Запустить собственную службу доставки, что сократит срок доставки заказов   \n",
       "\n",
       "   Reach  Impact  Confidence  Efforts  \n",
       "8      1       9           9        5  \n",
       "2      8       3           7        3  \n",
       "6      5       3           8        3  \n",
       "7     10       7           8        5  \n",
       "1      2       5           4       10  "
      ]
     },
     "metadata": {},
     "output_type": "display_data"
    },
    {
     "name": "stdout",
     "output_type": "stream",
     "text": [
      "=============================================\n"
     ]
    },
    {
     "data": {
      "text/html": [
       "<div>\n",
       "<style scoped>\n",
       "    .dataframe tbody tr th:only-of-type {\n",
       "        vertical-align: middle;\n",
       "    }\n",
       "\n",
       "    .dataframe tbody tr th {\n",
       "        vertical-align: top;\n",
       "    }\n",
       "\n",
       "    .dataframe thead th {\n",
       "        text-align: right;\n",
       "    }\n",
       "</style>\n",
       "<table border=\"1\" class=\"dataframe\">\n",
       "  <thead>\n",
       "    <tr style=\"text-align: right;\">\n",
       "      <th></th>\n",
       "      <th>transactionId</th>\n",
       "      <th>visitorId</th>\n",
       "      <th>date</th>\n",
       "      <th>revenue</th>\n",
       "      <th>group</th>\n",
       "    </tr>\n",
       "  </thead>\n",
       "  <tbody>\n",
       "    <tr>\n",
       "      <th>886</th>\n",
       "      <td>51443164</td>\n",
       "      <td>4278982564</td>\n",
       "      <td>2019-08-05</td>\n",
       "      <td>24744</td>\n",
       "      <td>A</td>\n",
       "    </tr>\n",
       "    <tr>\n",
       "      <th>1093</th>\n",
       "      <td>3894437543</td>\n",
       "      <td>276558944</td>\n",
       "      <td>2019-08-12</td>\n",
       "      <td>5050</td>\n",
       "      <td>A</td>\n",
       "    </tr>\n",
       "    <tr>\n",
       "      <th>801</th>\n",
       "      <td>504373597</td>\n",
       "      <td>2604012846</td>\n",
       "      <td>2019-08-05</td>\n",
       "      <td>890</td>\n",
       "      <td>B</td>\n",
       "    </tr>\n",
       "    <tr>\n",
       "      <th>189</th>\n",
       "      <td>4189935502</td>\n",
       "      <td>1648269707</td>\n",
       "      <td>2019-08-17</td>\n",
       "      <td>290</td>\n",
       "      <td>B</td>\n",
       "    </tr>\n",
       "    <tr>\n",
       "      <th>808</th>\n",
       "      <td>2344401705</td>\n",
       "      <td>366673373</td>\n",
       "      <td>2019-08-05</td>\n",
       "      <td>1460</td>\n",
       "      <td>A</td>\n",
       "    </tr>\n",
       "  </tbody>\n",
       "</table>\n",
       "</div>"
      ],
      "text/plain": [
       "      transactionId   visitorId        date  revenue group\n",
       "886        51443164  4278982564  2019-08-05    24744     A\n",
       "1093     3894437543   276558944  2019-08-12     5050     A\n",
       "801       504373597  2604012846  2019-08-05      890     B\n",
       "189      4189935502  1648269707  2019-08-17      290     B\n",
       "808      2344401705   366673373  2019-08-05     1460     A"
      ]
     },
     "metadata": {},
     "output_type": "display_data"
    },
    {
     "name": "stdout",
     "output_type": "stream",
     "text": [
      "=============================================\n"
     ]
    },
    {
     "data": {
      "text/html": [
       "<div>\n",
       "<style scoped>\n",
       "    .dataframe tbody tr th:only-of-type {\n",
       "        vertical-align: middle;\n",
       "    }\n",
       "\n",
       "    .dataframe tbody tr th {\n",
       "        vertical-align: top;\n",
       "    }\n",
       "\n",
       "    .dataframe thead th {\n",
       "        text-align: right;\n",
       "    }\n",
       "</style>\n",
       "<table border=\"1\" class=\"dataframe\">\n",
       "  <thead>\n",
       "    <tr style=\"text-align: right;\">\n",
       "      <th></th>\n",
       "      <th>date</th>\n",
       "      <th>group</th>\n",
       "      <th>visitors</th>\n",
       "    </tr>\n",
       "  </thead>\n",
       "  <tbody>\n",
       "    <tr>\n",
       "      <th>21</th>\n",
       "      <td>2019-08-22</td>\n",
       "      <td>A</td>\n",
       "      <td>609</td>\n",
       "    </tr>\n",
       "    <tr>\n",
       "      <th>52</th>\n",
       "      <td>2019-08-22</td>\n",
       "      <td>B</td>\n",
       "      <td>650</td>\n",
       "    </tr>\n",
       "    <tr>\n",
       "      <th>38</th>\n",
       "      <td>2019-08-08</td>\n",
       "      <td>B</td>\n",
       "      <td>654</td>\n",
       "    </tr>\n",
       "    <tr>\n",
       "      <th>24</th>\n",
       "      <td>2019-08-25</td>\n",
       "      <td>A</td>\n",
       "      <td>621</td>\n",
       "    </tr>\n",
       "    <tr>\n",
       "      <th>2</th>\n",
       "      <td>2019-08-03</td>\n",
       "      <td>A</td>\n",
       "      <td>507</td>\n",
       "    </tr>\n",
       "  </tbody>\n",
       "</table>\n",
       "</div>"
      ],
      "text/plain": [
       "          date group  visitors\n",
       "21  2019-08-22     A       609\n",
       "52  2019-08-22     B       650\n",
       "38  2019-08-08     B       654\n",
       "24  2019-08-25     A       621\n",
       "2   2019-08-03     A       507"
      ]
     },
     "metadata": {},
     "output_type": "display_data"
    },
    {
     "name": "stdout",
     "output_type": "stream",
     "text": [
      "=============================================\n"
     ]
    }
   ],
   "source": [
    "# проверим результат, а также ознакомимся с данными\n",
    "# используем метод sample() для случайной выборки\n",
    "# с параметром random_state=1, для сохранения результата \n",
    "# при повторных запусках алгоритма\n",
    "\n",
    "data_list = [hypothesis, orders, visitors]\n",
    "data_control_list = [hypothesis_control, orders_control, visitors_control]\n",
    "total_list = [data_list, data_control_list]\n",
    "\n",
    "for list in total_list:\n",
    "    for data in list:\n",
    "        display(data.sample(5, random_state=1))\n",
    "        print('=' * 45)"
   ]
  },
  {
   "cell_type": "markdown",
   "id": "96baf61f",
   "metadata": {},
   "source": [
    "**Итоги:**\n",
    "\n",
    "Данные загружены надлежащим образом."
   ]
  },
  {
   "cell_type": "markdown",
   "id": "bc83d562",
   "metadata": {},
   "source": [
    "### Описание данных"
   ]
  },
  {
   "cell_type": "markdown",
   "id": "261eba2e",
   "metadata": {},
   "source": [
    "Описание данных предоставлено заказчиком."
   ]
  },
  {
   "cell_type": "markdown",
   "id": "36f03d4f",
   "metadata": {},
   "source": [
    "**Первая часть исследования**\n",
    "\n",
    "Датасет hypothesis.csv. \n",
    "- Hypothesis — краткое описание гипотезы;\n",
    "- Reach — охват пользователей по 10-балльной шкале;\n",
    "- Impact — влияние на пользователей по 10-балльной шкале;\n",
    "- Confidence — уверенность в гипотезе по 10-балльной шкале;\n",
    "- Efforts — затраты ресурсов на проверку гипотезы по 10-балльной шкале. Чем больше значение Efforts, тем дороже проверка гипотезы."
   ]
  },
  {
   "cell_type": "markdown",
   "id": "6e3a944c",
   "metadata": {},
   "source": [
    "**Вторая часть исследования**\n",
    "\n",
    "1. Датасет orders.csv.\n",
    "- transactionId — идентификатор заказа;\n",
    "- visitorId — идентификатор пользователя, совершившего заказ;\n",
    "- date — дата, когда был совершён заказ;\n",
    "- revenue — выручка заказа;\n",
    "- group — группа A/B-теста, в которую попал заказ.\n",
    "\n",
    "2. Датасет visitors.csv. \n",
    "- date — дата;\n",
    "- group — группа A/B-теста;\n",
    "- visitors — количество пользователей в указанную дату в указанной группе A/B-теста."
   ]
  },
  {
   "cell_type": "code",
   "execution_count": 4,
   "id": "8cfef3cc",
   "metadata": {},
   "outputs": [
    {
     "name": "stdout",
     "output_type": "stream",
     "text": [
      "<class 'pandas.core.frame.DataFrame'>\n",
      "RangeIndex: 9 entries, 0 to 8\n",
      "Data columns (total 5 columns):\n",
      " #   Column      Non-Null Count  Dtype \n",
      "---  ------      --------------  ----- \n",
      " 0   Hypothesis  9 non-null      object\n",
      " 1   Reach       9 non-null      int64 \n",
      " 2   Impact      9 non-null      int64 \n",
      " 3   Confidence  9 non-null      int64 \n",
      " 4   Efforts     9 non-null      int64 \n",
      "dtypes: int64(4), object(1)\n",
      "memory usage: 488.0+ bytes\n",
      "=============================================\n",
      "\n",
      "<class 'pandas.core.frame.DataFrame'>\n",
      "RangeIndex: 1197 entries, 0 to 1196\n",
      "Data columns (total 5 columns):\n",
      " #   Column         Non-Null Count  Dtype \n",
      "---  ------         --------------  ----- \n",
      " 0   transactionId  1197 non-null   int64 \n",
      " 1   visitorId      1197 non-null   int64 \n",
      " 2   date           1197 non-null   object\n",
      " 3   revenue        1197 non-null   int64 \n",
      " 4   group          1197 non-null   object\n",
      "dtypes: int64(3), object(2)\n",
      "memory usage: 46.9+ KB\n",
      "=============================================\n",
      "\n",
      "<class 'pandas.core.frame.DataFrame'>\n",
      "RangeIndex: 62 entries, 0 to 61\n",
      "Data columns (total 3 columns):\n",
      " #   Column    Non-Null Count  Dtype \n",
      "---  ------    --------------  ----- \n",
      " 0   date      62 non-null     object\n",
      " 1   group     62 non-null     object\n",
      " 2   visitors  62 non-null     int64 \n",
      "dtypes: int64(1), object(2)\n",
      "memory usage: 1.6+ KB\n",
      "=============================================\n",
      "\n"
     ]
    }
   ],
   "source": [
    "# изучим данные более внимательно\n",
    "\n",
    "for data in data_list:\n",
    "    data.info()\n",
    "    print('=' * 45)\n",
    "    print()"
   ]
  },
  {
   "cell_type": "markdown",
   "id": "ab00515c",
   "metadata": {},
   "source": [
    "**Итоги:**\n",
    "1. В данных отсутствуют пропуски.\n",
    "2. Типа данных, содержащих дату, не соответствует дате.\n",
    "3. Остальные данные приведены к подходящему типу."
   ]
  },
  {
   "cell_type": "markdown",
   "id": "4093bc7b",
   "metadata": {},
   "source": [
    "## Приоритизация гипотез"
   ]
  },
  {
   "cell_type": "markdown",
   "id": "f6dd79c6",
   "metadata": {},
   "source": [
    "Датасет hypothesis содержит 9 гипотез по увеличению выручки интернет-магазина с указанными параметрами Reach, Impact, Confidence, Effort.\n",
    "\n",
    "**Задачи:**\n",
    "\n",
    "1. Применить фреймворк ICE для приоритизации гипотез. Отсортировать их по убыванию приоритета.\n",
    "2. Применить фреймворк RICE для приоритизации гипотез. Отсортировать их по убыванию приоритета.\n",
    "3. Указать, как изменилась приоритизация гипотез при применении RICE вместо ICE. Объяснить, почему так произошло."
   ]
  },
  {
   "cell_type": "markdown",
   "id": "28b8603d",
   "metadata": {},
   "source": [
    "### Предобработка данных"
   ]
  },
  {
   "cell_type": "code",
   "execution_count": 5,
   "id": "f10c4a73",
   "metadata": {},
   "outputs": [
    {
     "data": {
      "text/html": [
       "<div>\n",
       "<style scoped>\n",
       "    .dataframe tbody tr th:only-of-type {\n",
       "        vertical-align: middle;\n",
       "    }\n",
       "\n",
       "    .dataframe tbody tr th {\n",
       "        vertical-align: top;\n",
       "    }\n",
       "\n",
       "    .dataframe thead th {\n",
       "        text-align: right;\n",
       "    }\n",
       "</style>\n",
       "<table border=\"1\" class=\"dataframe\">\n",
       "  <thead>\n",
       "    <tr style=\"text-align: right;\">\n",
       "      <th></th>\n",
       "      <th>Hypothesis</th>\n",
       "      <th>Reach</th>\n",
       "      <th>Impact</th>\n",
       "      <th>Confidence</th>\n",
       "      <th>Efforts</th>\n",
       "    </tr>\n",
       "  </thead>\n",
       "  <tbody>\n",
       "    <tr>\n",
       "      <th>0</th>\n",
       "      <td>Добавить два новых канала привлечения трафика, что позволит привлекать на 30% больше пользователей</td>\n",
       "      <td>3</td>\n",
       "      <td>10</td>\n",
       "      <td>8</td>\n",
       "      <td>6</td>\n",
       "    </tr>\n",
       "    <tr>\n",
       "      <th>1</th>\n",
       "      <td>Запустить собственную службу доставки, что сократит срок доставки заказов</td>\n",
       "      <td>2</td>\n",
       "      <td>5</td>\n",
       "      <td>4</td>\n",
       "      <td>10</td>\n",
       "    </tr>\n",
       "    <tr>\n",
       "      <th>2</th>\n",
       "      <td>Добавить блоки рекомендаций товаров на сайт интернет магазина, чтобы повысить конверсию и средний чек заказа</td>\n",
       "      <td>8</td>\n",
       "      <td>3</td>\n",
       "      <td>7</td>\n",
       "      <td>3</td>\n",
       "    </tr>\n",
       "    <tr>\n",
       "      <th>3</th>\n",
       "      <td>Изменить структура категорий, что увеличит конверсию, т.к. пользователи быстрее найдут нужный товар</td>\n",
       "      <td>8</td>\n",
       "      <td>3</td>\n",
       "      <td>3</td>\n",
       "      <td>8</td>\n",
       "    </tr>\n",
       "    <tr>\n",
       "      <th>4</th>\n",
       "      <td>Изменить цвет фона главной страницы, чтобы увеличить вовлеченность пользователей</td>\n",
       "      <td>3</td>\n",
       "      <td>1</td>\n",
       "      <td>1</td>\n",
       "      <td>1</td>\n",
       "    </tr>\n",
       "    <tr>\n",
       "      <th>5</th>\n",
       "      <td>Добавить страницу отзывов клиентов о магазине, что позволит увеличить количество заказов</td>\n",
       "      <td>3</td>\n",
       "      <td>2</td>\n",
       "      <td>2</td>\n",
       "      <td>3</td>\n",
       "    </tr>\n",
       "    <tr>\n",
       "      <th>6</th>\n",
       "      <td>Показать на главной странице баннеры с актуальными акциями и распродажами, чтобы увеличить конверсию</td>\n",
       "      <td>5</td>\n",
       "      <td>3</td>\n",
       "      <td>8</td>\n",
       "      <td>3</td>\n",
       "    </tr>\n",
       "    <tr>\n",
       "      <th>7</th>\n",
       "      <td>Добавить форму подписки на все основные страницы, чтобы собрать базу клиентов для email-рассылок</td>\n",
       "      <td>10</td>\n",
       "      <td>7</td>\n",
       "      <td>8</td>\n",
       "      <td>5</td>\n",
       "    </tr>\n",
       "    <tr>\n",
       "      <th>8</th>\n",
       "      <td>Запустить акцию, дающую скидку на товар в день рождения</td>\n",
       "      <td>1</td>\n",
       "      <td>9</td>\n",
       "      <td>9</td>\n",
       "      <td>5</td>\n",
       "    </tr>\n",
       "  </tbody>\n",
       "</table>\n",
       "</div>"
      ],
      "text/plain": [
       "                                                                                                     Hypothesis  \\\n",
       "0            Добавить два новых канала привлечения трафика, что позволит привлекать на 30% больше пользователей   \n",
       "1                                     Запустить собственную службу доставки, что сократит срок доставки заказов   \n",
       "2  Добавить блоки рекомендаций товаров на сайт интернет магазина, чтобы повысить конверсию и средний чек заказа   \n",
       "3           Изменить структура категорий, что увеличит конверсию, т.к. пользователи быстрее найдут нужный товар   \n",
       "4                              Изменить цвет фона главной страницы, чтобы увеличить вовлеченность пользователей   \n",
       "5                      Добавить страницу отзывов клиентов о магазине, что позволит увеличить количество заказов   \n",
       "6          Показать на главной странице баннеры с актуальными акциями и распродажами, чтобы увеличить конверсию   \n",
       "7              Добавить форму подписки на все основные страницы, чтобы собрать базу клиентов для email-рассылок   \n",
       "8                                                       Запустить акцию, дающую скидку на товар в день рождения   \n",
       "\n",
       "   Reach  Impact  Confidence  Efforts  \n",
       "0      3      10           8        6  \n",
       "1      2       5           4       10  \n",
       "2      8       3           7        3  \n",
       "3      8       3           3        8  \n",
       "4      3       1           1        1  \n",
       "5      3       2           2        3  \n",
       "6      5       3           8        3  \n",
       "7     10       7           8        5  \n",
       "8      1       9           9        5  "
      ]
     },
     "execution_count": 5,
     "metadata": {},
     "output_type": "execute_result"
    }
   ],
   "source": [
    "# изучим визуально датасет на предмет проблем\n",
    "hypothesis"
   ]
  },
  {
   "cell_type": "markdown",
   "id": "10cc23c9",
   "metadata": {},
   "source": [
    "**Итоги:**\n",
    "1. Приведем наименования к единому стилю.\n",
    "2. В целом, в датасете отсутствуют проблемы."
   ]
  },
  {
   "cell_type": "code",
   "execution_count": 6,
   "id": "7fd6cfcc",
   "metadata": {},
   "outputs": [],
   "source": [
    "# исправим наименование колонок\n",
    "hypothesis.columns = hypothesis.columns.str.lower()"
   ]
  },
  {
   "cell_type": "code",
   "execution_count": 7,
   "id": "f5474b2f",
   "metadata": {},
   "outputs": [
    {
     "data": {
      "text/html": [
       "<div>\n",
       "<style scoped>\n",
       "    .dataframe tbody tr th:only-of-type {\n",
       "        vertical-align: middle;\n",
       "    }\n",
       "\n",
       "    .dataframe tbody tr th {\n",
       "        vertical-align: top;\n",
       "    }\n",
       "\n",
       "    .dataframe thead th {\n",
       "        text-align: right;\n",
       "    }\n",
       "</style>\n",
       "<table border=\"1\" class=\"dataframe\">\n",
       "  <thead>\n",
       "    <tr style=\"text-align: right;\">\n",
       "      <th></th>\n",
       "      <th>hypothesis</th>\n",
       "      <th>reach</th>\n",
       "      <th>impact</th>\n",
       "      <th>confidence</th>\n",
       "      <th>efforts</th>\n",
       "    </tr>\n",
       "  </thead>\n",
       "  <tbody>\n",
       "    <tr>\n",
       "      <th>0</th>\n",
       "      <td>Добавить два новых канала привлечения трафика, что позволит привлекать на 30% больше пользователей</td>\n",
       "      <td>3</td>\n",
       "      <td>10</td>\n",
       "      <td>8</td>\n",
       "      <td>6</td>\n",
       "    </tr>\n",
       "    <tr>\n",
       "      <th>1</th>\n",
       "      <td>Запустить собственную службу доставки, что сократит срок доставки заказов</td>\n",
       "      <td>2</td>\n",
       "      <td>5</td>\n",
       "      <td>4</td>\n",
       "      <td>10</td>\n",
       "    </tr>\n",
       "    <tr>\n",
       "      <th>2</th>\n",
       "      <td>Добавить блоки рекомендаций товаров на сайт интернет магазина, чтобы повысить конверсию и средний чек заказа</td>\n",
       "      <td>8</td>\n",
       "      <td>3</td>\n",
       "      <td>7</td>\n",
       "      <td>3</td>\n",
       "    </tr>\n",
       "    <tr>\n",
       "      <th>3</th>\n",
       "      <td>Изменить структура категорий, что увеличит конверсию, т.к. пользователи быстрее найдут нужный товар</td>\n",
       "      <td>8</td>\n",
       "      <td>3</td>\n",
       "      <td>3</td>\n",
       "      <td>8</td>\n",
       "    </tr>\n",
       "    <tr>\n",
       "      <th>4</th>\n",
       "      <td>Изменить цвет фона главной страницы, чтобы увеличить вовлеченность пользователей</td>\n",
       "      <td>3</td>\n",
       "      <td>1</td>\n",
       "      <td>1</td>\n",
       "      <td>1</td>\n",
       "    </tr>\n",
       "    <tr>\n",
       "      <th>5</th>\n",
       "      <td>Добавить страницу отзывов клиентов о магазине, что позволит увеличить количество заказов</td>\n",
       "      <td>3</td>\n",
       "      <td>2</td>\n",
       "      <td>2</td>\n",
       "      <td>3</td>\n",
       "    </tr>\n",
       "    <tr>\n",
       "      <th>6</th>\n",
       "      <td>Показать на главной странице баннеры с актуальными акциями и распродажами, чтобы увеличить конверсию</td>\n",
       "      <td>5</td>\n",
       "      <td>3</td>\n",
       "      <td>8</td>\n",
       "      <td>3</td>\n",
       "    </tr>\n",
       "    <tr>\n",
       "      <th>7</th>\n",
       "      <td>Добавить форму подписки на все основные страницы, чтобы собрать базу клиентов для email-рассылок</td>\n",
       "      <td>10</td>\n",
       "      <td>7</td>\n",
       "      <td>8</td>\n",
       "      <td>5</td>\n",
       "    </tr>\n",
       "    <tr>\n",
       "      <th>8</th>\n",
       "      <td>Запустить акцию, дающую скидку на товар в день рождения</td>\n",
       "      <td>1</td>\n",
       "      <td>9</td>\n",
       "      <td>9</td>\n",
       "      <td>5</td>\n",
       "    </tr>\n",
       "  </tbody>\n",
       "</table>\n",
       "</div>"
      ],
      "text/plain": [
       "                                                                                                     hypothesis  \\\n",
       "0            Добавить два новых канала привлечения трафика, что позволит привлекать на 30% больше пользователей   \n",
       "1                                     Запустить собственную службу доставки, что сократит срок доставки заказов   \n",
       "2  Добавить блоки рекомендаций товаров на сайт интернет магазина, чтобы повысить конверсию и средний чек заказа   \n",
       "3           Изменить структура категорий, что увеличит конверсию, т.к. пользователи быстрее найдут нужный товар   \n",
       "4                              Изменить цвет фона главной страницы, чтобы увеличить вовлеченность пользователей   \n",
       "5                      Добавить страницу отзывов клиентов о магазине, что позволит увеличить количество заказов   \n",
       "6          Показать на главной странице баннеры с актуальными акциями и распродажами, чтобы увеличить конверсию   \n",
       "7              Добавить форму подписки на все основные страницы, чтобы собрать базу клиентов для email-рассылок   \n",
       "8                                                       Запустить акцию, дающую скидку на товар в день рождения   \n",
       "\n",
       "   reach  impact  confidence  efforts  \n",
       "0      3      10           8        6  \n",
       "1      2       5           4       10  \n",
       "2      8       3           7        3  \n",
       "3      8       3           3        8  \n",
       "4      3       1           1        1  \n",
       "5      3       2           2        3  \n",
       "6      5       3           8        3  \n",
       "7     10       7           8        5  \n",
       "8      1       9           9        5  "
      ]
     },
     "execution_count": 7,
     "metadata": {},
     "output_type": "execute_result"
    }
   ],
   "source": [
    "# проверим результат\n",
    "hypothesis"
   ]
  },
  {
   "cell_type": "markdown",
   "id": "cb3147cc",
   "metadata": {},
   "source": [
    "### Приоритизация по ICE"
   ]
  },
  {
   "cell_type": "code",
   "execution_count": 8,
   "id": "ebe6b204",
   "metadata": {},
   "outputs": [
    {
     "data": {
      "text/html": [
       "<div>\n",
       "<style scoped>\n",
       "    .dataframe tbody tr th:only-of-type {\n",
       "        vertical-align: middle;\n",
       "    }\n",
       "\n",
       "    .dataframe tbody tr th {\n",
       "        vertical-align: top;\n",
       "    }\n",
       "\n",
       "    .dataframe thead th {\n",
       "        text-align: right;\n",
       "    }\n",
       "</style>\n",
       "<table border=\"1\" class=\"dataframe\">\n",
       "  <thead>\n",
       "    <tr style=\"text-align: right;\">\n",
       "      <th></th>\n",
       "      <th>hypothesis</th>\n",
       "      <th>ICE</th>\n",
       "    </tr>\n",
       "  </thead>\n",
       "  <tbody>\n",
       "    <tr>\n",
       "      <th>8</th>\n",
       "      <td>Запустить акцию, дающую скидку на товар в день рождения</td>\n",
       "      <td>16.200000</td>\n",
       "    </tr>\n",
       "    <tr>\n",
       "      <th>0</th>\n",
       "      <td>Добавить два новых канала привлечения трафика, что позволит привлекать на 30% больше пользователей</td>\n",
       "      <td>13.333333</td>\n",
       "    </tr>\n",
       "    <tr>\n",
       "      <th>7</th>\n",
       "      <td>Добавить форму подписки на все основные страницы, чтобы собрать базу клиентов для email-рассылок</td>\n",
       "      <td>11.200000</td>\n",
       "    </tr>\n",
       "    <tr>\n",
       "      <th>6</th>\n",
       "      <td>Показать на главной странице баннеры с актуальными акциями и распродажами, чтобы увеличить конверсию</td>\n",
       "      <td>8.000000</td>\n",
       "    </tr>\n",
       "    <tr>\n",
       "      <th>2</th>\n",
       "      <td>Добавить блоки рекомендаций товаров на сайт интернет магазина, чтобы повысить конверсию и средний чек заказа</td>\n",
       "      <td>7.000000</td>\n",
       "    </tr>\n",
       "    <tr>\n",
       "      <th>1</th>\n",
       "      <td>Запустить собственную службу доставки, что сократит срок доставки заказов</td>\n",
       "      <td>2.000000</td>\n",
       "    </tr>\n",
       "    <tr>\n",
       "      <th>5</th>\n",
       "      <td>Добавить страницу отзывов клиентов о магазине, что позволит увеличить количество заказов</td>\n",
       "      <td>1.333333</td>\n",
       "    </tr>\n",
       "    <tr>\n",
       "      <th>3</th>\n",
       "      <td>Изменить структура категорий, что увеличит конверсию, т.к. пользователи быстрее найдут нужный товар</td>\n",
       "      <td>1.125000</td>\n",
       "    </tr>\n",
       "    <tr>\n",
       "      <th>4</th>\n",
       "      <td>Изменить цвет фона главной страницы, чтобы увеличить вовлеченность пользователей</td>\n",
       "      <td>1.000000</td>\n",
       "    </tr>\n",
       "  </tbody>\n",
       "</table>\n",
       "</div>"
      ],
      "text/plain": [
       "                                                                                                     hypothesis  \\\n",
       "8                                                       Запустить акцию, дающую скидку на товар в день рождения   \n",
       "0            Добавить два новых канала привлечения трафика, что позволит привлекать на 30% больше пользователей   \n",
       "7              Добавить форму подписки на все основные страницы, чтобы собрать базу клиентов для email-рассылок   \n",
       "6          Показать на главной странице баннеры с актуальными акциями и распродажами, чтобы увеличить конверсию   \n",
       "2  Добавить блоки рекомендаций товаров на сайт интернет магазина, чтобы повысить конверсию и средний чек заказа   \n",
       "1                                     Запустить собственную службу доставки, что сократит срок доставки заказов   \n",
       "5                      Добавить страницу отзывов клиентов о магазине, что позволит увеличить количество заказов   \n",
       "3           Изменить структура категорий, что увеличит конверсию, т.к. пользователи быстрее найдут нужный товар   \n",
       "4                              Изменить цвет фона главной страницы, чтобы увеличить вовлеченность пользователей   \n",
       "\n",
       "         ICE  \n",
       "8  16.200000  \n",
       "0  13.333333  \n",
       "7  11.200000  \n",
       "6   8.000000  \n",
       "2   7.000000  \n",
       "1   2.000000  \n",
       "5   1.333333  \n",
       "3   1.125000  \n",
       "4   1.000000  "
      ]
     },
     "metadata": {},
     "output_type": "display_data"
    }
   ],
   "source": [
    "# расчитаем ICE и добавим оценку в таблицу\n",
    "hypothesis['ICE'] = (hypothesis['impact'] * hypothesis['confidence']) / hypothesis['efforts']\n",
    "\n",
    "# выведем на экран\n",
    "display(hypothesis[['hypothesis', 'ICE']].sort_values(by='ICE', ascending=False))"
   ]
  },
  {
   "cell_type": "markdown",
   "id": "f9a1c3df",
   "metadata": {},
   "source": [
    "### Приоритизация по RICE"
   ]
  },
  {
   "cell_type": "code",
   "execution_count": 9,
   "id": "025c079b",
   "metadata": {},
   "outputs": [
    {
     "data": {
      "text/html": [
       "<div>\n",
       "<style scoped>\n",
       "    .dataframe tbody tr th:only-of-type {\n",
       "        vertical-align: middle;\n",
       "    }\n",
       "\n",
       "    .dataframe tbody tr th {\n",
       "        vertical-align: top;\n",
       "    }\n",
       "\n",
       "    .dataframe thead th {\n",
       "        text-align: right;\n",
       "    }\n",
       "</style>\n",
       "<table border=\"1\" class=\"dataframe\">\n",
       "  <thead>\n",
       "    <tr style=\"text-align: right;\">\n",
       "      <th></th>\n",
       "      <th>hypothesis</th>\n",
       "      <th>RICE</th>\n",
       "    </tr>\n",
       "  </thead>\n",
       "  <tbody>\n",
       "    <tr>\n",
       "      <th>7</th>\n",
       "      <td>Добавить форму подписки на все основные страницы, чтобы собрать базу клиентов для email-рассылок</td>\n",
       "      <td>112.0</td>\n",
       "    </tr>\n",
       "    <tr>\n",
       "      <th>2</th>\n",
       "      <td>Добавить блоки рекомендаций товаров на сайт интернет магазина, чтобы повысить конверсию и средний чек заказа</td>\n",
       "      <td>56.0</td>\n",
       "    </tr>\n",
       "    <tr>\n",
       "      <th>0</th>\n",
       "      <td>Добавить два новых канала привлечения трафика, что позволит привлекать на 30% больше пользователей</td>\n",
       "      <td>40.0</td>\n",
       "    </tr>\n",
       "    <tr>\n",
       "      <th>6</th>\n",
       "      <td>Показать на главной странице баннеры с актуальными акциями и распродажами, чтобы увеличить конверсию</td>\n",
       "      <td>40.0</td>\n",
       "    </tr>\n",
       "    <tr>\n",
       "      <th>8</th>\n",
       "      <td>Запустить акцию, дающую скидку на товар в день рождения</td>\n",
       "      <td>16.2</td>\n",
       "    </tr>\n",
       "    <tr>\n",
       "      <th>3</th>\n",
       "      <td>Изменить структура категорий, что увеличит конверсию, т.к. пользователи быстрее найдут нужный товар</td>\n",
       "      <td>9.0</td>\n",
       "    </tr>\n",
       "    <tr>\n",
       "      <th>1</th>\n",
       "      <td>Запустить собственную службу доставки, что сократит срок доставки заказов</td>\n",
       "      <td>4.0</td>\n",
       "    </tr>\n",
       "    <tr>\n",
       "      <th>5</th>\n",
       "      <td>Добавить страницу отзывов клиентов о магазине, что позволит увеличить количество заказов</td>\n",
       "      <td>4.0</td>\n",
       "    </tr>\n",
       "    <tr>\n",
       "      <th>4</th>\n",
       "      <td>Изменить цвет фона главной страницы, чтобы увеличить вовлеченность пользователей</td>\n",
       "      <td>3.0</td>\n",
       "    </tr>\n",
       "  </tbody>\n",
       "</table>\n",
       "</div>"
      ],
      "text/plain": [
       "                                                                                                     hypothesis  \\\n",
       "7              Добавить форму подписки на все основные страницы, чтобы собрать базу клиентов для email-рассылок   \n",
       "2  Добавить блоки рекомендаций товаров на сайт интернет магазина, чтобы повысить конверсию и средний чек заказа   \n",
       "0            Добавить два новых канала привлечения трафика, что позволит привлекать на 30% больше пользователей   \n",
       "6          Показать на главной странице баннеры с актуальными акциями и распродажами, чтобы увеличить конверсию   \n",
       "8                                                       Запустить акцию, дающую скидку на товар в день рождения   \n",
       "3           Изменить структура категорий, что увеличит конверсию, т.к. пользователи быстрее найдут нужный товар   \n",
       "1                                     Запустить собственную службу доставки, что сократит срок доставки заказов   \n",
       "5                      Добавить страницу отзывов клиентов о магазине, что позволит увеличить количество заказов   \n",
       "4                              Изменить цвет фона главной страницы, чтобы увеличить вовлеченность пользователей   \n",
       "\n",
       "    RICE  \n",
       "7  112.0  \n",
       "2   56.0  \n",
       "0   40.0  \n",
       "6   40.0  \n",
       "8   16.2  \n",
       "3    9.0  \n",
       "1    4.0  \n",
       "5    4.0  \n",
       "4    3.0  "
      ]
     },
     "metadata": {},
     "output_type": "display_data"
    }
   ],
   "source": [
    "# расчитаем RICE и добавим оценку в таблицу\n",
    "hypothesis['RICE'] = (hypothesis['reach'] * hypothesis['impact'] * hypothesis['confidence']) / hypothesis['efforts']\n",
    "\n",
    "# выведем на экран\n",
    "display(hypothesis[['hypothesis', 'RICE']].sort_values(by='RICE', ascending=False))"
   ]
  },
  {
   "cell_type": "markdown",
   "id": "fc788ba2",
   "metadata": {},
   "source": [
    "### Анализ гипотез по ICE и RICE"
   ]
  },
  {
   "cell_type": "markdown",
   "id": "6ced32fe",
   "metadata": {},
   "source": [
    "Изучим топ-3 гипотез по разным фреймворкам."
   ]
  },
  {
   "cell_type": "code",
   "execution_count": 10,
   "id": "60bdd274",
   "metadata": {},
   "outputs": [
    {
     "data": {
      "text/html": [
       "<style type=\"text/css\">\n",
       "</style>\n",
       "<table id=\"T_0db33_\">\n",
       "  <caption>ТОП-3 ГИПОТЕЗ ПО ФРЕЙМВОРКУ ICE</caption>\n",
       "  <thead>\n",
       "    <tr>\n",
       "      <th class=\"blank level0\" >&nbsp;</th>\n",
       "      <th class=\"col_heading level0 col0\" >hypothesis</th>\n",
       "      <th class=\"col_heading level0 col1\" >reach</th>\n",
       "      <th class=\"col_heading level0 col2\" >impact</th>\n",
       "      <th class=\"col_heading level0 col3\" >confidence</th>\n",
       "      <th class=\"col_heading level0 col4\" >efforts</th>\n",
       "      <th class=\"col_heading level0 col5\" >ICE</th>\n",
       "      <th class=\"col_heading level0 col6\" >RICE</th>\n",
       "    </tr>\n",
       "  </thead>\n",
       "  <tbody>\n",
       "    <tr>\n",
       "      <th id=\"T_0db33_level0_row0\" class=\"row_heading level0 row0\" >8</th>\n",
       "      <td id=\"T_0db33_row0_col0\" class=\"data row0 col0\" >Запустить акцию, дающую скидку на товар в день рождения</td>\n",
       "      <td id=\"T_0db33_row0_col1\" class=\"data row0 col1\" >1</td>\n",
       "      <td id=\"T_0db33_row0_col2\" class=\"data row0 col2\" >9</td>\n",
       "      <td id=\"T_0db33_row0_col3\" class=\"data row0 col3\" >9</td>\n",
       "      <td id=\"T_0db33_row0_col4\" class=\"data row0 col4\" >5</td>\n",
       "      <td id=\"T_0db33_row0_col5\" class=\"data row0 col5\" >16.200000</td>\n",
       "      <td id=\"T_0db33_row0_col6\" class=\"data row0 col6\" >16.200000</td>\n",
       "    </tr>\n",
       "    <tr>\n",
       "      <th id=\"T_0db33_level0_row1\" class=\"row_heading level0 row1\" >0</th>\n",
       "      <td id=\"T_0db33_row1_col0\" class=\"data row1 col0\" >Добавить два новых канала привлечения трафика, что позволит привлекать на 30% больше пользователей</td>\n",
       "      <td id=\"T_0db33_row1_col1\" class=\"data row1 col1\" >3</td>\n",
       "      <td id=\"T_0db33_row1_col2\" class=\"data row1 col2\" >10</td>\n",
       "      <td id=\"T_0db33_row1_col3\" class=\"data row1 col3\" >8</td>\n",
       "      <td id=\"T_0db33_row1_col4\" class=\"data row1 col4\" >6</td>\n",
       "      <td id=\"T_0db33_row1_col5\" class=\"data row1 col5\" >13.333333</td>\n",
       "      <td id=\"T_0db33_row1_col6\" class=\"data row1 col6\" >40.000000</td>\n",
       "    </tr>\n",
       "    <tr>\n",
       "      <th id=\"T_0db33_level0_row2\" class=\"row_heading level0 row2\" >7</th>\n",
       "      <td id=\"T_0db33_row2_col0\" class=\"data row2 col0\" >Добавить форму подписки на все основные страницы, чтобы собрать базу клиентов для email-рассылок</td>\n",
       "      <td id=\"T_0db33_row2_col1\" class=\"data row2 col1\" >10</td>\n",
       "      <td id=\"T_0db33_row2_col2\" class=\"data row2 col2\" >7</td>\n",
       "      <td id=\"T_0db33_row2_col3\" class=\"data row2 col3\" >8</td>\n",
       "      <td id=\"T_0db33_row2_col4\" class=\"data row2 col4\" >5</td>\n",
       "      <td id=\"T_0db33_row2_col5\" class=\"data row2 col5\" >11.200000</td>\n",
       "      <td id=\"T_0db33_row2_col6\" class=\"data row2 col6\" >112.000000</td>\n",
       "    </tr>\n",
       "  </tbody>\n",
       "</table>\n"
      ],
      "text/plain": [
       "<pandas.io.formats.style.Styler at 0x1d7ef4417c8>"
      ]
     },
     "metadata": {},
     "output_type": "display_data"
    },
    {
     "data": {
      "text/html": [
       "<style type=\"text/css\">\n",
       "</style>\n",
       "<table id=\"T_b2538_\">\n",
       "  <caption>ТОП-3 ГИПОТЕЗ ПО ФРЕЙМВОРКУ RICE</caption>\n",
       "  <thead>\n",
       "    <tr>\n",
       "      <th class=\"blank level0\" >&nbsp;</th>\n",
       "      <th class=\"col_heading level0 col0\" >hypothesis</th>\n",
       "      <th class=\"col_heading level0 col1\" >reach</th>\n",
       "      <th class=\"col_heading level0 col2\" >impact</th>\n",
       "      <th class=\"col_heading level0 col3\" >confidence</th>\n",
       "      <th class=\"col_heading level0 col4\" >efforts</th>\n",
       "      <th class=\"col_heading level0 col5\" >ICE</th>\n",
       "      <th class=\"col_heading level0 col6\" >RICE</th>\n",
       "    </tr>\n",
       "  </thead>\n",
       "  <tbody>\n",
       "    <tr>\n",
       "      <th id=\"T_b2538_level0_row0\" class=\"row_heading level0 row0\" >7</th>\n",
       "      <td id=\"T_b2538_row0_col0\" class=\"data row0 col0\" >Добавить форму подписки на все основные страницы, чтобы собрать базу клиентов для email-рассылок</td>\n",
       "      <td id=\"T_b2538_row0_col1\" class=\"data row0 col1\" >10</td>\n",
       "      <td id=\"T_b2538_row0_col2\" class=\"data row0 col2\" >7</td>\n",
       "      <td id=\"T_b2538_row0_col3\" class=\"data row0 col3\" >8</td>\n",
       "      <td id=\"T_b2538_row0_col4\" class=\"data row0 col4\" >5</td>\n",
       "      <td id=\"T_b2538_row0_col5\" class=\"data row0 col5\" >11.200000</td>\n",
       "      <td id=\"T_b2538_row0_col6\" class=\"data row0 col6\" >112.000000</td>\n",
       "    </tr>\n",
       "    <tr>\n",
       "      <th id=\"T_b2538_level0_row1\" class=\"row_heading level0 row1\" >2</th>\n",
       "      <td id=\"T_b2538_row1_col0\" class=\"data row1 col0\" >Добавить блоки рекомендаций товаров на сайт интернет магазина, чтобы повысить конверсию и средний чек заказа</td>\n",
       "      <td id=\"T_b2538_row1_col1\" class=\"data row1 col1\" >8</td>\n",
       "      <td id=\"T_b2538_row1_col2\" class=\"data row1 col2\" >3</td>\n",
       "      <td id=\"T_b2538_row1_col3\" class=\"data row1 col3\" >7</td>\n",
       "      <td id=\"T_b2538_row1_col4\" class=\"data row1 col4\" >3</td>\n",
       "      <td id=\"T_b2538_row1_col5\" class=\"data row1 col5\" >7.000000</td>\n",
       "      <td id=\"T_b2538_row1_col6\" class=\"data row1 col6\" >56.000000</td>\n",
       "    </tr>\n",
       "    <tr>\n",
       "      <th id=\"T_b2538_level0_row2\" class=\"row_heading level0 row2\" >0</th>\n",
       "      <td id=\"T_b2538_row2_col0\" class=\"data row2 col0\" >Добавить два новых канала привлечения трафика, что позволит привлекать на 30% больше пользователей</td>\n",
       "      <td id=\"T_b2538_row2_col1\" class=\"data row2 col1\" >3</td>\n",
       "      <td id=\"T_b2538_row2_col2\" class=\"data row2 col2\" >10</td>\n",
       "      <td id=\"T_b2538_row2_col3\" class=\"data row2 col3\" >8</td>\n",
       "      <td id=\"T_b2538_row2_col4\" class=\"data row2 col4\" >6</td>\n",
       "      <td id=\"T_b2538_row2_col5\" class=\"data row2 col5\" >13.333333</td>\n",
       "      <td id=\"T_b2538_row2_col6\" class=\"data row2 col6\" >40.000000</td>\n",
       "    </tr>\n",
       "  </tbody>\n",
       "</table>\n"
      ],
      "text/plain": [
       "<pandas.io.formats.style.Styler at 0x1d7ef4c3288>"
      ]
     },
     "metadata": {},
     "output_type": "display_data"
    },
    {
     "data": {
      "text/html": [
       "<style type=\"text/css\">\n",
       "</style>\n",
       "<table id=\"T_e6276_\">\n",
       "  <caption>ГИПОТЕЗЫ ПО ПАРАМЕТРУ REACH</caption>\n",
       "  <thead>\n",
       "    <tr>\n",
       "      <th class=\"blank level0\" >&nbsp;</th>\n",
       "      <th class=\"col_heading level0 col0\" >hypothesis</th>\n",
       "      <th class=\"col_heading level0 col1\" >reach</th>\n",
       "      <th class=\"col_heading level0 col2\" >impact</th>\n",
       "      <th class=\"col_heading level0 col3\" >confidence</th>\n",
       "      <th class=\"col_heading level0 col4\" >efforts</th>\n",
       "      <th class=\"col_heading level0 col5\" >ICE</th>\n",
       "      <th class=\"col_heading level0 col6\" >RICE</th>\n",
       "    </tr>\n",
       "  </thead>\n",
       "  <tbody>\n",
       "    <tr>\n",
       "      <th id=\"T_e6276_level0_row0\" class=\"row_heading level0 row0\" >7</th>\n",
       "      <td id=\"T_e6276_row0_col0\" class=\"data row0 col0\" >Добавить форму подписки на все основные страницы, чтобы собрать базу клиентов для email-рассылок</td>\n",
       "      <td id=\"T_e6276_row0_col1\" class=\"data row0 col1\" >10</td>\n",
       "      <td id=\"T_e6276_row0_col2\" class=\"data row0 col2\" >7</td>\n",
       "      <td id=\"T_e6276_row0_col3\" class=\"data row0 col3\" >8</td>\n",
       "      <td id=\"T_e6276_row0_col4\" class=\"data row0 col4\" >5</td>\n",
       "      <td id=\"T_e6276_row0_col5\" class=\"data row0 col5\" >11.200000</td>\n",
       "      <td id=\"T_e6276_row0_col6\" class=\"data row0 col6\" >112.000000</td>\n",
       "    </tr>\n",
       "    <tr>\n",
       "      <th id=\"T_e6276_level0_row1\" class=\"row_heading level0 row1\" >2</th>\n",
       "      <td id=\"T_e6276_row1_col0\" class=\"data row1 col0\" >Добавить блоки рекомендаций товаров на сайт интернет магазина, чтобы повысить конверсию и средний чек заказа</td>\n",
       "      <td id=\"T_e6276_row1_col1\" class=\"data row1 col1\" >8</td>\n",
       "      <td id=\"T_e6276_row1_col2\" class=\"data row1 col2\" >3</td>\n",
       "      <td id=\"T_e6276_row1_col3\" class=\"data row1 col3\" >7</td>\n",
       "      <td id=\"T_e6276_row1_col4\" class=\"data row1 col4\" >3</td>\n",
       "      <td id=\"T_e6276_row1_col5\" class=\"data row1 col5\" >7.000000</td>\n",
       "      <td id=\"T_e6276_row1_col6\" class=\"data row1 col6\" >56.000000</td>\n",
       "    </tr>\n",
       "    <tr>\n",
       "      <th id=\"T_e6276_level0_row2\" class=\"row_heading level0 row2\" >3</th>\n",
       "      <td id=\"T_e6276_row2_col0\" class=\"data row2 col0\" >Изменить структура категорий, что увеличит конверсию, т.к. пользователи быстрее найдут нужный товар</td>\n",
       "      <td id=\"T_e6276_row2_col1\" class=\"data row2 col1\" >8</td>\n",
       "      <td id=\"T_e6276_row2_col2\" class=\"data row2 col2\" >3</td>\n",
       "      <td id=\"T_e6276_row2_col3\" class=\"data row2 col3\" >3</td>\n",
       "      <td id=\"T_e6276_row2_col4\" class=\"data row2 col4\" >8</td>\n",
       "      <td id=\"T_e6276_row2_col5\" class=\"data row2 col5\" >1.125000</td>\n",
       "      <td id=\"T_e6276_row2_col6\" class=\"data row2 col6\" >9.000000</td>\n",
       "    </tr>\n",
       "    <tr>\n",
       "      <th id=\"T_e6276_level0_row3\" class=\"row_heading level0 row3\" >6</th>\n",
       "      <td id=\"T_e6276_row3_col0\" class=\"data row3 col0\" >Показать на главной странице баннеры с актуальными акциями и распродажами, чтобы увеличить конверсию</td>\n",
       "      <td id=\"T_e6276_row3_col1\" class=\"data row3 col1\" >5</td>\n",
       "      <td id=\"T_e6276_row3_col2\" class=\"data row3 col2\" >3</td>\n",
       "      <td id=\"T_e6276_row3_col3\" class=\"data row3 col3\" >8</td>\n",
       "      <td id=\"T_e6276_row3_col4\" class=\"data row3 col4\" >3</td>\n",
       "      <td id=\"T_e6276_row3_col5\" class=\"data row3 col5\" >8.000000</td>\n",
       "      <td id=\"T_e6276_row3_col6\" class=\"data row3 col6\" >40.000000</td>\n",
       "    </tr>\n",
       "    <tr>\n",
       "      <th id=\"T_e6276_level0_row4\" class=\"row_heading level0 row4\" >0</th>\n",
       "      <td id=\"T_e6276_row4_col0\" class=\"data row4 col0\" >Добавить два новых канала привлечения трафика, что позволит привлекать на 30% больше пользователей</td>\n",
       "      <td id=\"T_e6276_row4_col1\" class=\"data row4 col1\" >3</td>\n",
       "      <td id=\"T_e6276_row4_col2\" class=\"data row4 col2\" >10</td>\n",
       "      <td id=\"T_e6276_row4_col3\" class=\"data row4 col3\" >8</td>\n",
       "      <td id=\"T_e6276_row4_col4\" class=\"data row4 col4\" >6</td>\n",
       "      <td id=\"T_e6276_row4_col5\" class=\"data row4 col5\" >13.333333</td>\n",
       "      <td id=\"T_e6276_row4_col6\" class=\"data row4 col6\" >40.000000</td>\n",
       "    </tr>\n",
       "    <tr>\n",
       "      <th id=\"T_e6276_level0_row5\" class=\"row_heading level0 row5\" >4</th>\n",
       "      <td id=\"T_e6276_row5_col0\" class=\"data row5 col0\" >Изменить цвет фона главной страницы, чтобы увеличить вовлеченность пользователей</td>\n",
       "      <td id=\"T_e6276_row5_col1\" class=\"data row5 col1\" >3</td>\n",
       "      <td id=\"T_e6276_row5_col2\" class=\"data row5 col2\" >1</td>\n",
       "      <td id=\"T_e6276_row5_col3\" class=\"data row5 col3\" >1</td>\n",
       "      <td id=\"T_e6276_row5_col4\" class=\"data row5 col4\" >1</td>\n",
       "      <td id=\"T_e6276_row5_col5\" class=\"data row5 col5\" >1.000000</td>\n",
       "      <td id=\"T_e6276_row5_col6\" class=\"data row5 col6\" >3.000000</td>\n",
       "    </tr>\n",
       "    <tr>\n",
       "      <th id=\"T_e6276_level0_row6\" class=\"row_heading level0 row6\" >5</th>\n",
       "      <td id=\"T_e6276_row6_col0\" class=\"data row6 col0\" >Добавить страницу отзывов клиентов о магазине, что позволит увеличить количество заказов</td>\n",
       "      <td id=\"T_e6276_row6_col1\" class=\"data row6 col1\" >3</td>\n",
       "      <td id=\"T_e6276_row6_col2\" class=\"data row6 col2\" >2</td>\n",
       "      <td id=\"T_e6276_row6_col3\" class=\"data row6 col3\" >2</td>\n",
       "      <td id=\"T_e6276_row6_col4\" class=\"data row6 col4\" >3</td>\n",
       "      <td id=\"T_e6276_row6_col5\" class=\"data row6 col5\" >1.333333</td>\n",
       "      <td id=\"T_e6276_row6_col6\" class=\"data row6 col6\" >4.000000</td>\n",
       "    </tr>\n",
       "    <tr>\n",
       "      <th id=\"T_e6276_level0_row7\" class=\"row_heading level0 row7\" >1</th>\n",
       "      <td id=\"T_e6276_row7_col0\" class=\"data row7 col0\" >Запустить собственную службу доставки, что сократит срок доставки заказов</td>\n",
       "      <td id=\"T_e6276_row7_col1\" class=\"data row7 col1\" >2</td>\n",
       "      <td id=\"T_e6276_row7_col2\" class=\"data row7 col2\" >5</td>\n",
       "      <td id=\"T_e6276_row7_col3\" class=\"data row7 col3\" >4</td>\n",
       "      <td id=\"T_e6276_row7_col4\" class=\"data row7 col4\" >10</td>\n",
       "      <td id=\"T_e6276_row7_col5\" class=\"data row7 col5\" >2.000000</td>\n",
       "      <td id=\"T_e6276_row7_col6\" class=\"data row7 col6\" >4.000000</td>\n",
       "    </tr>\n",
       "    <tr>\n",
       "      <th id=\"T_e6276_level0_row8\" class=\"row_heading level0 row8\" >8</th>\n",
       "      <td id=\"T_e6276_row8_col0\" class=\"data row8 col0\" >Запустить акцию, дающую скидку на товар в день рождения</td>\n",
       "      <td id=\"T_e6276_row8_col1\" class=\"data row8 col1\" >1</td>\n",
       "      <td id=\"T_e6276_row8_col2\" class=\"data row8 col2\" >9</td>\n",
       "      <td id=\"T_e6276_row8_col3\" class=\"data row8 col3\" >9</td>\n",
       "      <td id=\"T_e6276_row8_col4\" class=\"data row8 col4\" >5</td>\n",
       "      <td id=\"T_e6276_row8_col5\" class=\"data row8 col5\" >16.200000</td>\n",
       "      <td id=\"T_e6276_row8_col6\" class=\"data row8 col6\" >16.200000</td>\n",
       "    </tr>\n",
       "  </tbody>\n",
       "</table>\n"
      ],
      "text/plain": [
       "<pandas.io.formats.style.Styler at 0x1d7ef5ef948>"
      ]
     },
     "metadata": {},
     "output_type": "display_data"
    }
   ],
   "source": [
    "# выведем топ-3 по разным фреймворкам\n",
    "display(hypothesis.sort_values(by='ICE', ascending=False).head(3).style.set_caption('ТОП-3 ГИПОТЕЗ ПО ФРЕЙМВОРКУ ICE'))\n",
    "display(hypothesis.sort_values(by='RICE', ascending=False).head(3).style.set_caption('ТОП-3 ГИПОТЕЗ ПО ФРЕЙМВОРКУ RICE'))\n",
    "\n",
    "# выведем гипотезы по охвату\n",
    "display(hypothesis.sort_values(by='reach', ascending=False).style.set_caption('ГИПОТЕЗЫ ПО ПАРАМЕТРУ REACH'))"
   ]
  },
  {
   "cell_type": "markdown",
   "id": "9f9fa8ee",
   "metadata": {},
   "source": [
    "**Итоги:**\n",
    "1. Несомненно, изменение приоритизации гипотез подвержено влиянию параметра reach. И это логично.\n",
    "2. По RICE первое место занимает гипотеза с наибольшим охватом и неплохими показателями остальных метрик. Естественно, без учета этого параметра она опускается во фреймворке ICE на третье место.\n",
    "3. Первое место по ICE занимает работающая гипотеза, которая оказывает сильное влияние на пользователя - но её охват крайне низок - она применяется только в дни рождения. Поэтому данная гипотеза не попадает в топ-3 фреймворка RICE, даже при учете остальных отличных показателей.\n",
    "4. Второе место по ICE отдано гипотезе со впечатляющими метриками. Настолько, что даже сравнительно небольшой охват (3) не способен выбить ее из топ-3 RICE-гипотез.\n",
    "5. При этом, второе место по RICE обладает крайне невыразительными параметрами, поэтому оказывается только внизу топ-5 по ICE.\n",
    "6. Несомненно, охват имеет превалирующее значение при приоритизации гипотез со средними параметрами. Однако, даже высокий охват не способен значительно изменить приоритизацию гипотез с высокими параметрами."
   ]
  },
  {
   "cell_type": "code",
   "execution_count": 11,
   "id": "e6a9c420",
   "metadata": {},
   "outputs": [],
   "source": [
    "# построим ICE/RICE scatter plot\n",
    "x = hypothesis['ICE']\n",
    "y = hypothesis['RICE']\n",
    "z = [i for i, h in enumerate(hypothesis['hypothesis'])]\n",
    "sns.set()"
   ]
  },
  {
   "cell_type": "code",
   "execution_count": 12,
   "id": "aab62183",
   "metadata": {},
   "outputs": [
    {
     "data": {
      "image/png": "[encoded data removed]",
      "text/plain": [
       "<Figure size 1080x576 with 1 Axes>"
      ]
     },
     "metadata": {},
     "output_type": "display_data"
    }
   ],
   "source": [
    "fig, ax = plt.subplots(figsize=(15,8))\n",
    "ax.scatter(\n",
    "    x, y, \n",
    "    color=['orange','pink', 'blue', 'brown', 'red', 'grey', 'yellow', 'green', 'indigo']\n",
    ")\n",
    "for i in z:\n",
    "    ax.annotate(i, (x[i]-0.25, y[i]+0.2), fontsize=14)\n",
    "\n",
    "plt.title('Сводный график оценки гипотез по ICE/RICE', fontsize=16)\n",
    "plt.xlabel('Метрика ICE', fontsize=13)\n",
    "plt.ylabel('Метрика RICE', fontsize=13);"
   ]
  },
  {
   "cell_type": "markdown",
   "id": "58925a9e",
   "metadata": {},
   "source": [
    "## Анализ А/В-теста"
   ]
  },
  {
   "cell_type": "markdown",
   "id": "bc8858f1",
   "metadata": {},
   "source": [
    "Проанализировать A/B-тест. Подготовить выводы и предположение по следующим пунктам:\n",
    "1. Построить график кумулятивной выручки по группам.\n",
    "2. Построить график кумулятивного среднего чека по группам. \n",
    "3. Построить график относительного изменения кумулятивного среднего чека группы B к группе A. \n",
    "4. Построить график кумулятивной конверсии по группам. \n",
    "5. Построить график относительного изменения кумулятивной конверсии группы B к группе A. \n",
    "6. Построить точечный график количества заказов по пользователям. \n",
    "7. Посчитать 95-й и 99-й перцентили количества заказов на пользователя. Выбрать границу для определения аномальных пользователей.\n",
    "8. Построить точечный график стоимостей заказов. \n",
    "9. Посчитать 95-й и 99-й перцентили стоимости заказов. Выбрать границу для определения аномальных заказов.\n",
    "10. Посчитать статистическую значимость различий в конверсии между группами по «сырым» данным. \n",
    "11. Посчитать статистическую значимость различий в среднем чеке заказа между группами по «сырым» данным. \n",
    "12. Посчитать статистическую значимость различий в конверсии между группами по «очищенным» данным.\n",
    "13. Посчитать статистическую значимость различий в среднем чеке заказа между группами по «очищенным» данным. \n",
    "14. Принять решение по результатам теста и объясните его. Варианты решений: 1. Остановить тест, зафиксировать победу одной из групп. 2. Остановить тест, зафиксировать отсутствие различий между группами. 3. Продолжить тест."
   ]
  },
  {
   "cell_type": "markdown",
   "id": "dd5a9a00",
   "metadata": {},
   "source": [
    "### Предобработка данных"
   ]
  },
  {
   "cell_type": "code",
   "execution_count": 13,
   "id": "55be79ea",
   "metadata": {},
   "outputs": [],
   "source": [
    "# сформируем лист датасетов\n",
    "AB_list = [visitors, orders]"
   ]
  },
  {
   "cell_type": "code",
   "execution_count": 14,
   "id": "11025585",
   "metadata": {},
   "outputs": [
    {
     "data": {
      "text/html": [
       "<div>\n",
       "<style scoped>\n",
       "    .dataframe tbody tr th:only-of-type {\n",
       "        vertical-align: middle;\n",
       "    }\n",
       "\n",
       "    .dataframe tbody tr th {\n",
       "        vertical-align: top;\n",
       "    }\n",
       "\n",
       "    .dataframe thead th {\n",
       "        text-align: right;\n",
       "    }\n",
       "</style>\n",
       "<table border=\"1\" class=\"dataframe\">\n",
       "  <thead>\n",
       "    <tr style=\"text-align: right;\">\n",
       "      <th></th>\n",
       "      <th>date</th>\n",
       "      <th>group</th>\n",
       "      <th>visitors</th>\n",
       "    </tr>\n",
       "  </thead>\n",
       "  <tbody>\n",
       "    <tr>\n",
       "      <th>0</th>\n",
       "      <td>2019-08-01</td>\n",
       "      <td>A</td>\n",
       "      <td>719</td>\n",
       "    </tr>\n",
       "  </tbody>\n",
       "</table>\n",
       "</div>"
      ],
      "text/plain": [
       "         date group  visitors\n",
       "0  2019-08-01     A       719"
      ]
     },
     "metadata": {},
     "output_type": "display_data"
    },
    {
     "name": "stdout",
     "output_type": "stream",
     "text": [
      "=============================================\n",
      "\u001b[1mКоличество уникальных значений:\u001b[0m\n"
     ]
    },
    {
     "data": {
      "text/plain": [
       "2019-08-01    2\n",
       "2019-08-17    2\n",
       "2019-08-30    2\n",
       "2019-08-29    2\n",
       "2019-08-28    2\n",
       "2019-08-27    2\n",
       "2019-08-26    2\n",
       "2019-08-25    2\n",
       "2019-08-24    2\n",
       "2019-08-23    2\n",
       "2019-08-22    2\n",
       "2019-08-21    2\n",
       "2019-08-20    2\n",
       "2019-08-19    2\n",
       "2019-08-18    2\n",
       "2019-08-16    2\n",
       "2019-08-02    2\n",
       "2019-08-15    2\n",
       "2019-08-14    2\n",
       "2019-08-13    2\n",
       "2019-08-12    2\n",
       "2019-08-11    2\n",
       "2019-08-10    2\n",
       "2019-08-09    2\n",
       "2019-08-08    2\n",
       "2019-08-07    2\n",
       "2019-08-06    2\n",
       "2019-08-05    2\n",
       "2019-08-04    2\n",
       "2019-08-03    2\n",
       "2019-08-31    2\n",
       "Name: date, dtype: int64"
      ]
     },
     "metadata": {},
     "output_type": "display_data"
    },
    {
     "name": "stdout",
     "output_type": "stream",
     "text": [
      "=============================================\n",
      "\n",
      "\u001b[1mКоличество пропусков:\u001b[0m 0\n",
      "=============================================\n",
      "\n",
      "\u001b[1mКоличество уникальных значений:\u001b[0m\n"
     ]
    },
    {
     "data": {
      "text/plain": [
       "A    31\n",
       "B    31\n",
       "Name: group, dtype: int64"
      ]
     },
     "metadata": {},
     "output_type": "display_data"
    },
    {
     "name": "stdout",
     "output_type": "stream",
     "text": [
      "=============================================\n",
      "\n",
      "\u001b[1mКоличество пропусков:\u001b[0m 0\n",
      "=============================================\n",
      "\n",
      "\u001b[1mКоличество уникальных значений:\u001b[0m\n"
     ]
    },
    {
     "data": {
      "text/plain": [
       "490    2\n",
       "610    2\n",
       "654    2\n",
       "718    2\n",
       "544    1\n",
       "581    1\n",
       "509    1\n",
       "770    1\n",
       "707    1\n",
       "655    1\n",
       "709    1\n",
       "369    1\n",
       "721    1\n",
       "543    1\n",
       "769    1\n",
       "746    1\n",
       "413    1\n",
       "699    1\n",
       "421    1\n",
       "737    1\n",
       "487    1\n",
       "560    1\n",
       "656    1\n",
       "650    1\n",
       "546    1\n",
       "378    1\n",
       "679    1\n",
       "676    1\n",
       "720    1\n",
       "713    1\n",
       "719    1\n",
       "619    1\n",
       "361    1\n",
       "507    1\n",
       "717    1\n",
       "756    1\n",
       "667    1\n",
       "644    1\n",
       "617    1\n",
       "406    1\n",
       "595    1\n",
       "748    1\n",
       "735    1\n",
       "628    1\n",
       "412    1\n",
       "577    1\n",
       "668    1\n",
       "502    1\n",
       "575    1\n",
       "646    1\n",
       "609    1\n",
       "468    1\n",
       "395    1\n",
       "621    1\n",
       "722    1\n",
       "711    1\n",
       "594    1\n",
       "531    1\n",
       "Name: visitors, dtype: int64"
      ]
     },
     "metadata": {},
     "output_type": "display_data"
    },
    {
     "name": "stdout",
     "output_type": "stream",
     "text": [
      "=============================================\n",
      "\n",
      "\u001b[1mКоличество пропусков:\u001b[0m 0\n",
      "=============================================\n",
      "\n"
     ]
    },
    {
     "data": {
      "text/html": [
       "<div>\n",
       "<style scoped>\n",
       "    .dataframe tbody tr th:only-of-type {\n",
       "        vertical-align: middle;\n",
       "    }\n",
       "\n",
       "    .dataframe tbody tr th {\n",
       "        vertical-align: top;\n",
       "    }\n",
       "\n",
       "    .dataframe thead th {\n",
       "        text-align: right;\n",
       "    }\n",
       "</style>\n",
       "<table border=\"1\" class=\"dataframe\">\n",
       "  <thead>\n",
       "    <tr style=\"text-align: right;\">\n",
       "      <th></th>\n",
       "      <th>transactionId</th>\n",
       "      <th>visitorId</th>\n",
       "      <th>date</th>\n",
       "      <th>revenue</th>\n",
       "      <th>group</th>\n",
       "    </tr>\n",
       "  </thead>\n",
       "  <tbody>\n",
       "    <tr>\n",
       "      <th>0</th>\n",
       "      <td>3667963787</td>\n",
       "      <td>3312258926</td>\n",
       "      <td>2019-08-15</td>\n",
       "      <td>1650</td>\n",
       "      <td>B</td>\n",
       "    </tr>\n",
       "  </tbody>\n",
       "</table>\n",
       "</div>"
      ],
      "text/plain": [
       "   transactionId   visitorId        date  revenue group\n",
       "0     3667963787  3312258926  2019-08-15     1650     B"
      ]
     },
     "metadata": {},
     "output_type": "display_data"
    },
    {
     "name": "stdout",
     "output_type": "stream",
     "text": [
      "=============================================\n",
      "\u001b[1mКоличество уникальных значений:\u001b[0m\n"
     ]
    },
    {
     "data": {
      "text/plain": [
       "3667963787    1\n",
       "4167421281    1\n",
       "2875229767    1\n",
       "504373597     1\n",
       "2017680897    1\n",
       "             ..\n",
       "1853288890    1\n",
       "2084190534    1\n",
       "2956594374    1\n",
       "3646798055    1\n",
       "3936777065    1\n",
       "Name: transactionId, Length: 1197, dtype: int64"
      ]
     },
     "metadata": {},
     "output_type": "display_data"
    },
    {
     "name": "stdout",
     "output_type": "stream",
     "text": [
      "=============================================\n",
      "\n",
      "\u001b[1mКоличество пропусков:\u001b[0m 0\n",
      "=============================================\n",
      "\n",
      "\u001b[1mКоличество уникальных значений:\u001b[0m\n"
     ]
    },
    {
     "data": {
      "text/plain": [
       "4256040402    11\n",
       "2458001652    11\n",
       "2378935119     9\n",
       "2038680547     8\n",
       "199603092      5\n",
       "              ..\n",
       "2524310328     1\n",
       "2210805728     1\n",
       "2274825520     1\n",
       "1831227158     1\n",
       "2108080724     1\n",
       "Name: visitorId, Length: 1031, dtype: int64"
      ]
     },
     "metadata": {},
     "output_type": "display_data"
    },
    {
     "name": "stdout",
     "output_type": "stream",
     "text": [
      "=============================================\n",
      "\n",
      "\u001b[1mКоличество пропусков:\u001b[0m 0\n",
      "=============================================\n",
      "\n",
      "\u001b[1mКоличество уникальных значений:\u001b[0m\n"
     ]
    },
    {
     "data": {
      "text/plain": [
       "2019-08-05    48\n",
       "2019-08-14    47\n",
       "2019-08-12    47\n",
       "2019-08-06    46\n",
       "2019-08-15    46\n",
       "2019-08-01    45\n",
       "2019-08-28    45\n",
       "2019-08-02    44\n",
       "2019-08-27    44\n",
       "2019-08-08    43\n",
       "2019-08-19    43\n",
       "2019-08-29    42\n",
       "2019-08-07    42\n",
       "2019-08-22    41\n",
       "2019-08-09    41\n",
       "2019-08-26    41\n",
       "2019-08-03    40\n",
       "2019-08-23    40\n",
       "2019-08-10    39\n",
       "2019-08-16    38\n",
       "2019-08-21    37\n",
       "2019-08-30    35\n",
       "2019-08-13    35\n",
       "2019-08-04    33\n",
       "2019-08-20    32\n",
       "2019-08-31    32\n",
       "2019-08-24    31\n",
       "2019-08-11    26\n",
       "2019-08-18    26\n",
       "2019-08-17    24\n",
       "2019-08-25    24\n",
       "Name: date, dtype: int64"
      ]
     },
     "metadata": {},
     "output_type": "display_data"
    },
    {
     "name": "stdout",
     "output_type": "stream",
     "text": [
      "=============================================\n",
      "\n",
      "\u001b[1mКоличество пропусков:\u001b[0m 0\n",
      "=============================================\n",
      "\n",
      "\u001b[1mКоличество уникальных значений:\u001b[0m\n"
     ]
    },
    {
     "data": {
      "text/plain": [
       "990       17\n",
       "390       13\n",
       "890       13\n",
       "400       10\n",
       "1490      10\n",
       "          ..\n",
       "70         1\n",
       "3080       1\n",
       "19240      1\n",
       "3890       1\n",
       "202740     1\n",
       "Name: revenue, Length: 713, dtype: int64"
      ]
     },
     "metadata": {},
     "output_type": "display_data"
    },
    {
     "name": "stdout",
     "output_type": "stream",
     "text": [
      "=============================================\n",
      "\n",
      "\u001b[1mКоличество пропусков:\u001b[0m 0\n",
      "=============================================\n",
      "\n",
      "\u001b[1mКоличество уникальных значений:\u001b[0m\n"
     ]
    },
    {
     "data": {
      "text/plain": [
       "B    640\n",
       "A    557\n",
       "Name: group, dtype: int64"
      ]
     },
     "metadata": {},
     "output_type": "display_data"
    },
    {
     "name": "stdout",
     "output_type": "stream",
     "text": [
      "=============================================\n",
      "\n",
      "\u001b[1mКоличество пропусков:\u001b[0m 0\n",
      "=============================================\n",
      "\n"
     ]
    }
   ],
   "source": [
    "# изучим содержание датасета на предмет явных проблем\n",
    "for data in AB_list:\n",
    "    display(data.head(1))\n",
    "    print('=' * 45)\n",
    "    for column in data:\n",
    "        print('\\033[1m' + 'Количество уникальных значений:' + '\\033[0m')\n",
    "        display(data[column].value_counts())\n",
    "        print('=' * 45)\n",
    "        print()\n",
    "        print('\\033[1m' + 'Количество пропусков:' + '\\033[0m', \n",
    "              data[column].isna().sum())\n",
    "        print('=' * 45)\n",
    "        print()\n",
    "        "
   ]
  },
  {
   "cell_type": "code",
   "execution_count": 15,
   "id": "c94df0a1",
   "metadata": {},
   "outputs": [
    {
     "name": "stdout",
     "output_type": "stream",
     "text": [
      "<class 'pandas.core.frame.DataFrame'>\n",
      "RangeIndex: 62 entries, 0 to 61\n",
      "Data columns (total 3 columns):\n",
      " #   Column    Non-Null Count  Dtype \n",
      "---  ------    --------------  ----- \n",
      " 0   date      62 non-null     object\n",
      " 1   group     62 non-null     object\n",
      " 2   visitors  62 non-null     int64 \n",
      "dtypes: int64(1), object(2)\n",
      "memory usage: 1.6+ KB\n"
     ]
    },
    {
     "data": {
      "text/plain": [
       "None"
      ]
     },
     "metadata": {},
     "output_type": "display_data"
    },
    {
     "name": "stdout",
     "output_type": "stream",
     "text": [
      "=============================================\n",
      "<class 'pandas.core.frame.DataFrame'>\n",
      "RangeIndex: 1197 entries, 0 to 1196\n",
      "Data columns (total 5 columns):\n",
      " #   Column         Non-Null Count  Dtype \n",
      "---  ------         --------------  ----- \n",
      " 0   transactionId  1197 non-null   int64 \n",
      " 1   visitorId      1197 non-null   int64 \n",
      " 2   date           1197 non-null   object\n",
      " 3   revenue        1197 non-null   int64 \n",
      " 4   group          1197 non-null   object\n",
      "dtypes: int64(3), object(2)\n",
      "memory usage: 46.9+ KB\n"
     ]
    },
    {
     "data": {
      "text/plain": [
       "None"
      ]
     },
     "metadata": {},
     "output_type": "display_data"
    },
    {
     "name": "stdout",
     "output_type": "stream",
     "text": [
      "=============================================\n"
     ]
    }
   ],
   "source": [
    "for data in AB_list:\n",
    "    display(data.info())\n",
    "    print('=' * 45)"
   ]
  },
  {
   "cell_type": "code",
   "execution_count": 16,
   "id": "a75c666e",
   "metadata": {},
   "outputs": [
    {
     "data": {
      "text/html": [
       "<div>\n",
       "<style scoped>\n",
       "    .dataframe tbody tr th:only-of-type {\n",
       "        vertical-align: middle;\n",
       "    }\n",
       "\n",
       "    .dataframe tbody tr th {\n",
       "        vertical-align: top;\n",
       "    }\n",
       "\n",
       "    .dataframe thead th {\n",
       "        text-align: right;\n",
       "    }\n",
       "</style>\n",
       "<table border=\"1\" class=\"dataframe\">\n",
       "  <thead>\n",
       "    <tr style=\"text-align: right;\">\n",
       "      <th></th>\n",
       "      <th>date</th>\n",
       "      <th>group</th>\n",
       "      <th>visitors</th>\n",
       "    </tr>\n",
       "  </thead>\n",
       "  <tbody>\n",
       "    <tr>\n",
       "      <th>0</th>\n",
       "      <td>2019-08-01</td>\n",
       "      <td>A</td>\n",
       "      <td>719</td>\n",
       "    </tr>\n",
       "    <tr>\n",
       "      <th>1</th>\n",
       "      <td>2019-08-02</td>\n",
       "      <td>A</td>\n",
       "      <td>619</td>\n",
       "    </tr>\n",
       "    <tr>\n",
       "      <th>2</th>\n",
       "      <td>2019-08-03</td>\n",
       "      <td>A</td>\n",
       "      <td>507</td>\n",
       "    </tr>\n",
       "    <tr>\n",
       "      <th>3</th>\n",
       "      <td>2019-08-04</td>\n",
       "      <td>A</td>\n",
       "      <td>717</td>\n",
       "    </tr>\n",
       "    <tr>\n",
       "      <th>4</th>\n",
       "      <td>2019-08-05</td>\n",
       "      <td>A</td>\n",
       "      <td>756</td>\n",
       "    </tr>\n",
       "  </tbody>\n",
       "</table>\n",
       "</div>"
      ],
      "text/plain": [
       "        date group  visitors\n",
       "0 2019-08-01     A       719\n",
       "1 2019-08-02     A       619\n",
       "2 2019-08-03     A       507\n",
       "3 2019-08-04     A       717\n",
       "4 2019-08-05     A       756"
      ]
     },
     "metadata": {},
     "output_type": "display_data"
    },
    {
     "name": "stdout",
     "output_type": "stream",
     "text": [
      "<class 'pandas.core.frame.DataFrame'>\n",
      "RangeIndex: 62 entries, 0 to 61\n",
      "Data columns (total 3 columns):\n",
      " #   Column    Non-Null Count  Dtype         \n",
      "---  ------    --------------  -----         \n",
      " 0   date      62 non-null     datetime64[ns]\n",
      " 1   group     62 non-null     object        \n",
      " 2   visitors  62 non-null     int64         \n",
      "dtypes: datetime64[ns](1), int64(1), object(1)\n",
      "memory usage: 1.6+ KB\n"
     ]
    },
    {
     "data": {
      "text/plain": [
       "None"
      ]
     },
     "metadata": {},
     "output_type": "display_data"
    },
    {
     "name": "stdout",
     "output_type": "stream",
     "text": [
      "=============================================\n",
      "\n"
     ]
    },
    {
     "data": {
      "text/html": [
       "<div>\n",
       "<style scoped>\n",
       "    .dataframe tbody tr th:only-of-type {\n",
       "        vertical-align: middle;\n",
       "    }\n",
       "\n",
       "    .dataframe tbody tr th {\n",
       "        vertical-align: top;\n",
       "    }\n",
       "\n",
       "    .dataframe thead th {\n",
       "        text-align: right;\n",
       "    }\n",
       "</style>\n",
       "<table border=\"1\" class=\"dataframe\">\n",
       "  <thead>\n",
       "    <tr style=\"text-align: right;\">\n",
       "      <th></th>\n",
       "      <th>transactionId</th>\n",
       "      <th>visitorId</th>\n",
       "      <th>date</th>\n",
       "      <th>revenue</th>\n",
       "      <th>group</th>\n",
       "    </tr>\n",
       "  </thead>\n",
       "  <tbody>\n",
       "    <tr>\n",
       "      <th>0</th>\n",
       "      <td>3667963787</td>\n",
       "      <td>3312258926</td>\n",
       "      <td>2019-08-15</td>\n",
       "      <td>1650</td>\n",
       "      <td>B</td>\n",
       "    </tr>\n",
       "    <tr>\n",
       "      <th>1</th>\n",
       "      <td>2804400009</td>\n",
       "      <td>3642806036</td>\n",
       "      <td>2019-08-15</td>\n",
       "      <td>730</td>\n",
       "      <td>B</td>\n",
       "    </tr>\n",
       "    <tr>\n",
       "      <th>2</th>\n",
       "      <td>2961555356</td>\n",
       "      <td>4069496402</td>\n",
       "      <td>2019-08-15</td>\n",
       "      <td>400</td>\n",
       "      <td>A</td>\n",
       "    </tr>\n",
       "    <tr>\n",
       "      <th>3</th>\n",
       "      <td>3797467345</td>\n",
       "      <td>1196621759</td>\n",
       "      <td>2019-08-15</td>\n",
       "      <td>9759</td>\n",
       "      <td>B</td>\n",
       "    </tr>\n",
       "    <tr>\n",
       "      <th>4</th>\n",
       "      <td>2282983706</td>\n",
       "      <td>2322279887</td>\n",
       "      <td>2019-08-15</td>\n",
       "      <td>2308</td>\n",
       "      <td>B</td>\n",
       "    </tr>\n",
       "  </tbody>\n",
       "</table>\n",
       "</div>"
      ],
      "text/plain": [
       "   transactionId   visitorId       date  revenue group\n",
       "0     3667963787  3312258926 2019-08-15     1650     B\n",
       "1     2804400009  3642806036 2019-08-15      730     B\n",
       "2     2961555356  4069496402 2019-08-15      400     A\n",
       "3     3797467345  1196621759 2019-08-15     9759     B\n",
       "4     2282983706  2322279887 2019-08-15     2308     B"
      ]
     },
     "metadata": {},
     "output_type": "display_data"
    },
    {
     "name": "stdout",
     "output_type": "stream",
     "text": [
      "<class 'pandas.core.frame.DataFrame'>\n",
      "RangeIndex: 1197 entries, 0 to 1196\n",
      "Data columns (total 5 columns):\n",
      " #   Column         Non-Null Count  Dtype         \n",
      "---  ------         --------------  -----         \n",
      " 0   transactionId  1197 non-null   int64         \n",
      " 1   visitorId      1197 non-null   int64         \n",
      " 2   date           1197 non-null   datetime64[ns]\n",
      " 3   revenue        1197 non-null   int64         \n",
      " 4   group          1197 non-null   object        \n",
      "dtypes: datetime64[ns](1), int64(3), object(1)\n",
      "memory usage: 46.9+ KB\n"
     ]
    },
    {
     "data": {
      "text/plain": [
       "None"
      ]
     },
     "metadata": {},
     "output_type": "display_data"
    },
    {
     "name": "stdout",
     "output_type": "stream",
     "text": [
      "=============================================\n",
      "\n"
     ]
    }
   ],
   "source": [
    "# поменяем тип даты и проверим результат\n",
    "for data in AB_list:\n",
    "    data['date'] = data['date'].map(lambda x: dt.datetime.strptime(x, '%Y-%m-%d'))\n",
    "    display(data.head(5))\n",
    "    display(data.info())\n",
    "    print('=' *45)\n",
    "    print()"
   ]
  },
  {
   "cell_type": "code",
   "execution_count": 17,
   "id": "339a42c7",
   "metadata": {},
   "outputs": [
    {
     "name": "stdout",
     "output_type": "stream",
     "text": [
      "Index(['date', 'group', 'visitors'], dtype='object')\n",
      "Нет столбца 'visitorid'\n",
      "=============================================\n",
      "Index(['transactionid', 'visitorid', 'date', 'revenue', 'group'], dtype='object')\n",
      "Дубликаты 'visitorid':  166\n",
      "=============================================\n"
     ]
    }
   ],
   "source": [
    "# приведем наименования столбцов к единому стилю\n",
    "# и проверим результат\n",
    "for data in AB_list:\n",
    "    data.columns = data.columns.str.lower()\n",
    "    print(data.columns)\n",
    "    try:\n",
    "        print('Дубликаты \\'visitorid\\': ', data['visitorid'].duplicated().sum())\n",
    "    except:\n",
    "        print('Нет столбца \\'visitorid\\'')\n",
    "    print('=' * 45)"
   ]
  },
  {
   "cell_type": "code",
   "execution_count": 18,
   "id": "9bbb2e13",
   "metadata": {},
   "outputs": [
    {
     "name": "stdout",
     "output_type": "stream",
     "text": [
      "Int64Index([   8300375,  199603092,  232979603,  237748145,  276558944,\n",
      "             351125977,  393266494,  457167155,  471551937,  477780734,\n",
      "             818047933,  963407295, 1230306981, 1294878855, 1316129916,\n",
      "            1333886533, 1404934699, 1602967004, 1614305549, 1648269707,\n",
      "            1668030113, 1738359350, 1801183820, 1959144690, 2038680547,\n",
      "            2044997962, 2378935119, 2458001652, 2579882178, 2587333274,\n",
      "            2600415354, 2654030115, 2686716486, 2712142231, 2716752286,\n",
      "            2780786433, 2927087541, 2949041841, 2954449915, 3062433592,\n",
      "            3202540741, 3234906277, 3656415546, 3717692402, 3766097110,\n",
      "            3803269165, 3891541246, 3941795274, 3951559397, 3957174400,\n",
      "            3963646447, 3972127743, 3984495233, 4069496402, 4120364173,\n",
      "            4186807279, 4256040402, 4266935830],\n",
      "           dtype='int64', name='visitorid')\n",
      "58\n"
     ]
    }
   ],
   "source": [
    "# составим список дубликатов\n",
    "users_group_count = orders.groupby('visitorid')['group'].nunique()\n",
    "dupes = users_group_count[users_group_count > 1].index \n",
    "\n",
    "print(dupes)\n",
    "print(len(dupes))"
   ]
  },
  {
   "cell_type": "code",
   "execution_count": 19,
   "id": "34e4d7e7",
   "metadata": {},
   "outputs": [
    {
     "data": {
      "text/html": [
       "<div>\n",
       "<style scoped>\n",
       "    .dataframe tbody tr th:only-of-type {\n",
       "        vertical-align: middle;\n",
       "    }\n",
       "\n",
       "    .dataframe tbody tr th {\n",
       "        vertical-align: top;\n",
       "    }\n",
       "\n",
       "    .dataframe thead th {\n",
       "        text-align: right;\n",
       "    }\n",
       "</style>\n",
       "<table border=\"1\" class=\"dataframe\">\n",
       "  <thead>\n",
       "    <tr style=\"text-align: right;\">\n",
       "      <th></th>\n",
       "      <th>transactionid</th>\n",
       "      <th>visitorid</th>\n",
       "      <th>date</th>\n",
       "      <th>revenue</th>\n",
       "      <th>group</th>\n",
       "    </tr>\n",
       "  </thead>\n",
       "  <tbody>\n",
       "    <tr>\n",
       "      <th>703</th>\n",
       "      <td>4293855558</td>\n",
       "      <td>8300375</td>\n",
       "      <td>2019-08-07</td>\n",
       "      <td>1790</td>\n",
       "      <td>A</td>\n",
       "    </tr>\n",
       "    <tr>\n",
       "      <th>71</th>\n",
       "      <td>3679129301</td>\n",
       "      <td>8300375</td>\n",
       "      <td>2019-08-01</td>\n",
       "      <td>10510</td>\n",
       "      <td>B</td>\n",
       "    </tr>\n",
       "    <tr>\n",
       "      <th>823</th>\n",
       "      <td>2971973105</td>\n",
       "      <td>199603092</td>\n",
       "      <td>2019-08-27</td>\n",
       "      <td>2790</td>\n",
       "      <td>A</td>\n",
       "    </tr>\n",
       "    <tr>\n",
       "      <th>246</th>\n",
       "      <td>437656952</td>\n",
       "      <td>199603092</td>\n",
       "      <td>2019-08-02</td>\n",
       "      <td>3488</td>\n",
       "      <td>B</td>\n",
       "    </tr>\n",
       "    <tr>\n",
       "      <th>26</th>\n",
       "      <td>2223239646</td>\n",
       "      <td>199603092</td>\n",
       "      <td>2019-08-15</td>\n",
       "      <td>3488</td>\n",
       "      <td>A</td>\n",
       "    </tr>\n",
       "    <tr>\n",
       "      <th>134</th>\n",
       "      <td>62794304</td>\n",
       "      <td>199603092</td>\n",
       "      <td>2019-08-22</td>\n",
       "      <td>6976</td>\n",
       "      <td>A</td>\n",
       "    </tr>\n",
       "    <tr>\n",
       "      <th>1102</th>\n",
       "      <td>1941707234</td>\n",
       "      <td>199603092</td>\n",
       "      <td>2019-08-12</td>\n",
       "      <td>6438</td>\n",
       "      <td>A</td>\n",
       "    </tr>\n",
       "    <tr>\n",
       "      <th>1009</th>\n",
       "      <td>2670069237</td>\n",
       "      <td>232979603</td>\n",
       "      <td>2019-08-31</td>\n",
       "      <td>2640</td>\n",
       "      <td>B</td>\n",
       "    </tr>\n",
       "    <tr>\n",
       "      <th>1013</th>\n",
       "      <td>83566152</td>\n",
       "      <td>232979603</td>\n",
       "      <td>2019-08-31</td>\n",
       "      <td>60</td>\n",
       "      <td>A</td>\n",
       "    </tr>\n",
       "    <tr>\n",
       "      <th>590</th>\n",
       "      <td>3702128013</td>\n",
       "      <td>237748145</td>\n",
       "      <td>2019-08-20</td>\n",
       "      <td>1290</td>\n",
       "      <td>A</td>\n",
       "    </tr>\n",
       "  </tbody>\n",
       "</table>\n",
       "</div>"
      ],
      "text/plain": [
       "      transactionid  visitorid       date  revenue group\n",
       "703      4293855558    8300375 2019-08-07     1790     A\n",
       "71       3679129301    8300375 2019-08-01    10510     B\n",
       "823      2971973105  199603092 2019-08-27     2790     A\n",
       "246       437656952  199603092 2019-08-02     3488     B\n",
       "26       2223239646  199603092 2019-08-15     3488     A\n",
       "134        62794304  199603092 2019-08-22     6976     A\n",
       "1102     1941707234  199603092 2019-08-12     6438     A\n",
       "1009     2670069237  232979603 2019-08-31     2640     B\n",
       "1013       83566152  232979603 2019-08-31       60     A\n",
       "590      3702128013  237748145 2019-08-20     1290     A"
      ]
     },
     "execution_count": 19,
     "metadata": {},
     "output_type": "execute_result"
    }
   ],
   "source": [
    "# изучим дубликаты\n",
    "orders.query('visitorid in @dupes').sort_values(by='visitorid').head(10)"
   ]
  },
  {
   "cell_type": "code",
   "execution_count": 20,
   "id": "19b99bac",
   "metadata": {},
   "outputs": [
    {
     "data": {
      "text/plain": [
       "58"
      ]
     },
     "execution_count": 20,
     "metadata": {},
     "output_type": "execute_result"
    }
   ],
   "source": [
    "# из списка общих дубликатов сформируем список дубликатов, присутствующих в обеих группах\n",
    "double_group_dupes = []\n",
    "for i in dupes:\n",
    "    if len(set(orders.query('visitorid == @i')['group'])) > 1:\n",
    "        double_group_dupes.append(i)\n",
    "len(double_group_dupes)"
   ]
  },
  {
   "cell_type": "code",
   "execution_count": 21,
   "id": "2498280a",
   "metadata": {},
   "outputs": [
    {
     "name": "stdout",
     "output_type": "stream",
     "text": [
      "Количество наблюдений в датасете orders до очистки: 1197\n",
      "Количество наблюдений в датасете orders уменьшится на: 181\n",
      "И после очистки составит: 1016\n"
     ]
    }
   ],
   "source": [
    "print('Количество наблюдений в датасете orders до очистки:', len(orders))\n",
    "print(\n",
    "    'Количество наблюдений в датасете orders уменьшится на:',\n",
    "    len(orders)\n",
    "    -len(orders.query('visitorid not in @double_group_dupes'))\n",
    "    )\n",
    "print('И после очистки составит:', len(orders.query('visitorid not in @double_group_dupes')))"
   ]
  },
  {
   "cell_type": "markdown",
   "id": "5bf2f4ac",
   "metadata": {},
   "source": [
    "Пользователи, дублированные в двух группах составляют чуть более 10%. А значит могут значительно повлиять на формирование выводов. При этом наблюдений остается достаточное количество, а значит необходима очистка. \n",
    "\n",
    "Кроме того, необходимо уведомить специалистов, формировавших выборку об ошибках."
   ]
  },
  {
   "cell_type": "code",
   "execution_count": 22,
   "id": "b4e76031",
   "metadata": {
    "scrolled": true
   },
   "outputs": [],
   "source": [
    "orders = orders.query('visitorid not in @double_group_dupes')"
   ]
  },
  {
   "cell_type": "markdown",
   "id": "d2cff2db",
   "metadata": {},
   "source": [
    "**Итоги:**\n",
    "\n",
    "Данные достаточно чистые по форме. По содержанию и выбросам, изучим их в следующих разделах. При формировании выборок были допущены ошибки."
   ]
  },
  {
   "cell_type": "markdown",
   "id": "97892f82",
   "metadata": {},
   "source": [
    "### Кумулятивная выручка по группам"
   ]
  },
  {
   "cell_type": "code",
   "execution_count": 23,
   "id": "ae6aa275",
   "metadata": {},
   "outputs": [
    {
     "name": "stdout",
     "output_type": "stream",
     "text": [
      "        date group  orders  buyers  revenue  visitors\n",
      "0 2019-08-01     A      23      19   142779       719\n",
      "1 2019-08-01     B      17      17    59758       713\n",
      "2 2019-08-02     A      42      36   234381      1338\n",
      "3 2019-08-02     B      40      39   221801      1294\n",
      "4 2019-08-03     A      66      60   346854      1845\n"
     ]
    }
   ],
   "source": [
    "# создадим массив уникальных пар значений дат и групп теста\n",
    "datesGroups = orders[['date','group']].drop_duplicates()\n",
    "\n",
    "# получаем агрегированные кумулятивные по дням данные о заказах \n",
    "ordersAggregated = datesGroups.apply(\n",
    "    lambda x: orders[np.logical_and(\n",
    "        orders['date'] <= x['date'], orders['group'] == x['group']\n",
    "    )]\n",
    "    .agg(\n",
    "        {'date' : 'max', 'group' : 'max', 'transactionid' : pd.Series.nunique,\n",
    "          'visitorid' : pd.Series.nunique, 'revenue' : 'sum'}\n",
    "    ), \n",
    "    axis=1).sort_values(by=['date','group'])\n",
    "\n",
    "# получаем агрегированные кумулятивные по дням данные о посетителях интернет-магазина \n",
    "visitorsAggregated = datesGroups.apply(\n",
    "    lambda x: visitors[np.logical_and(\n",
    "        visitors['date'] <= x['date'], visitors['group'] == x['group']\n",
    "    )]\n",
    "    .agg(\n",
    "        {'date' : 'max', 'group' : 'max', 'visitors' : 'sum'}\n",
    "    ),\n",
    "    axis=1).sort_values(by=['date','group'])\n",
    "\n",
    "# объединяем кумулятивные данные в одной таблице и присваиваем ее столбцам понятные названия\n",
    "cumulativeData = ordersAggregated.merge(\n",
    "    visitorsAggregated, left_on=['date', 'group'], \n",
    "    right_on=['date', 'group']\n",
    ")\n",
    "cumulativeData.columns = ['date', 'group', 'orders', 'buyers', 'revenue', 'visitors']\n",
    "\n",
    "# проверим результат\n",
    "print(cumulativeData.head(5))"
   ]
  },
  {
   "cell_type": "code",
   "execution_count": 24,
   "id": "3abfc745",
   "metadata": {},
   "outputs": [],
   "source": [
    "# зададим стандартные параметры для графиков\n",
    "plt.rcParams.update({'figure.figsize': (15,8)})\n",
    "sns.set()"
   ]
  },
  {
   "cell_type": "code",
   "execution_count": 25,
   "id": "99d6d3e5",
   "metadata": {},
   "outputs": [
    {
     "data": {
      "image/png": "[encoded data removed]",
      "text/plain": [
       "<Figure size 1080x576 with 1 Axes>"
      ]
     },
     "metadata": {},
     "output_type": "display_data"
    }
   ],
   "source": [
    "# датафрейм с кумулятивным количеством заказов и кумулятивной выручкой по дням в группе А\n",
    "cumulativeRevenueA = cumulativeData[cumulativeData['group']=='A'][['date','revenue', 'orders']]\n",
    "\n",
    "# датафрейм с кумулятивным количеством заказов и кумулятивной выручкой по дням в группе B\n",
    "cumulativeRevenueB = cumulativeData[cumulativeData['group']=='B'][['date','revenue', 'orders']]\n",
    "\n",
    "# Строим график выручки группы А\n",
    "plt.plot(cumulativeRevenueA['date'], cumulativeRevenueA['revenue'], label='A', color='red')\n",
    "\n",
    "# Строим график выручки группы B\n",
    "plt.plot(cumulativeRevenueB['date'], cumulativeRevenueB['revenue'], label='B')\n",
    "\n",
    "# настроим отображение\n",
    "plt.legend()\n",
    "plt.title('Изменение кумулятивной выручки по группам А и В', fontsize=16)\n",
    "plt.xlabel('Время теста', fontsize=13)\n",
    "plt.ylabel('Кумулятивная выручка', fontsize=13)\n",
    "plt.show()"
   ]
  },
  {
   "cell_type": "markdown",
   "id": "430c29fa",
   "metadata": {},
   "source": [
    "**Итоги:**\n",
    "\n",
    "Во время теста выручка увеличивается у обеих групп. Однако с 13 августа группа В начинает демонстрировать больший рост, а с 18 августа демонстрирует резкий скачок вверх. Это может быть связано либо с всплеском активности, либо с появлением в выборке крайне больших заказов, что проанализируем позднее."
   ]
  },
  {
   "cell_type": "markdown",
   "id": "2073fe5e",
   "metadata": {},
   "source": [
    "### Кумулятивный средний чек по группам"
   ]
  },
  {
   "cell_type": "code",
   "execution_count": 26,
   "id": "3f33454f",
   "metadata": {},
   "outputs": [
    {
     "data": {
      "image/png": "[encoded data removed]",
      "text/plain": [
       "<Figure size 1080x576 with 1 Axes>"
      ]
     },
     "metadata": {},
     "output_type": "display_data"
    }
   ],
   "source": [
    "plt.plot(cumulativeRevenueA['date'], \n",
    "         cumulativeRevenueA['revenue']/cumulativeRevenueA['orders'], label='A', color='red')\n",
    "\n",
    "plt.plot(cumulativeRevenueB['date'], \n",
    "         cumulativeRevenueB['revenue']/cumulativeRevenueB['orders'], label='B')\n",
    "\n",
    "# настроим отображение\n",
    "plt.legend()\n",
    "plt.title('Изменение кумулятивного среднего чека по группам А и В', fontsize=16)\n",
    "plt.xlabel('Время теста', fontsize=13)\n",
    "plt.ylabel('Кумулятивный средний чек', fontsize=13)\n",
    "plt.show()"
   ]
  },
  {
   "cell_type": "markdown",
   "id": "27cb5208",
   "metadata": {},
   "source": [
    "**Итоги:**\n",
    "\n",
    "Средний чек также испытывает сильное колебание в тех же датах. Кроме того, есть заметные просадки в начале теста. Если гипотеза о попадании в выборку больших заказов верна, то для усреднения графика естественным образом необходимо больше времени."
   ]
  },
  {
   "cell_type": "markdown",
   "id": "4694dd72",
   "metadata": {},
   "source": [
    "### Относительное изменение кумулятивного среднего чека группы B к группе A"
   ]
  },
  {
   "cell_type": "code",
   "execution_count": 27,
   "id": "9ce278e4",
   "metadata": {},
   "outputs": [
    {
     "data": {
      "image/png": "[encoded data removed]",
      "text/plain": [
       "<Figure size 1080x576 with 1 Axes>"
      ]
     },
     "metadata": {},
     "output_type": "display_data"
    }
   ],
   "source": [
    "# собираем данные в одном датафрейме\n",
    "mergedCumulativeRevenue = cumulativeRevenueA.merge(\n",
    "    cumulativeRevenueB, left_on='date', \n",
    "    right_on='date', how='left', suffixes=['A', 'B']\n",
    ")\n",
    "\n",
    "# cтроим отношение средних чеков\n",
    "plt.plot(\n",
    "    mergedCumulativeRevenue['date'], \n",
    "    (mergedCumulativeRevenue['revenueB']/mergedCumulativeRevenue['ordersB'])\n",
    "    /(mergedCumulativeRevenue['revenueA']/mergedCumulativeRevenue['ordersA'])-1, color='red')\n",
    "\n",
    "# добавляем ось X\n",
    "plt.axhline(y=0, color='black', linestyle='--')\n",
    "\n",
    "# настроим отображение\n",
    "plt.title('Относительное изменение кумулятивного среднего чека группы В к группе А', fontsize=16)\n",
    "plt.xlabel('Время теста', fontsize=13)\n",
    "plt.ylabel('Относительный кумулятивный средний чек', fontsize=13)\n",
    "plt.show()"
   ]
  },
  {
   "cell_type": "markdown",
   "id": "13d7eb21",
   "metadata": {},
   "source": [
    "**Итоги:**\n",
    "\n",
    "Несмотря на общую положительную динамику, в нескольких сегментах изменение сильно скачет. А значит в выборке обнаружены выбросы, которые необходимо очистить, перед окончательными выводами."
   ]
  },
  {
   "cell_type": "markdown",
   "id": "77cb75ab",
   "metadata": {},
   "source": [
    "### Кумулятивная конверсия по группам"
   ]
  },
  {
   "cell_type": "code",
   "execution_count": 28,
   "id": "341dea3e",
   "metadata": {},
   "outputs": [
    {
     "data": {
      "image/png": "[encoded data removed]",
      "text/plain": [
       "<Figure size 1080x576 with 1 Axes>"
      ]
     },
     "metadata": {},
     "output_type": "display_data"
    }
   ],
   "source": [
    "# считаем кумулятивную конверсию\n",
    "cumulativeData['conversion'] = cumulativeData['orders']/cumulativeData['visitors']\n",
    "\n",
    "# отделяем данные по группе A\n",
    "cumulativeDataA = cumulativeData[cumulativeData['group']=='A']\n",
    "\n",
    "# отделяем данные по группе B\n",
    "cumulativeDataB = cumulativeData[cumulativeData['group']=='B']\n",
    "\n",
    "# строим графики\n",
    "plt.plot(cumulativeDataA['date'], cumulativeDataA['conversion'], label='A', color='red')\n",
    "plt.plot(cumulativeDataB['date'], cumulativeDataB['conversion'], label='B')\n",
    "plt.legend()\n",
    "\n",
    "# настроим отображение\n",
    "plt.title('Кумулятивная конверсия по группам А/В-теста', fontsize=16)\n",
    "plt.xlabel('Время теста', fontsize=13)\n",
    "plt.ylabel('Кумулятивная конверсия', fontsize=13)\n",
    "plt.show()"
   ]
  },
  {
   "cell_type": "markdown",
   "id": "554bb926",
   "metadata": {},
   "source": [
    "**Итоги:**\n",
    "\n",
    "После резкого скачка (вниз для группы А и вверх для группы В), происходит относительная стабилизация на одном уровне. Несмотря на колебания, среднее значение остается одинаковым. Возможно искажения связано с выбросами в датасете. При этом, группа В на грязных данных демонстрирует уверенное превосходство над группой А."
   ]
  },
  {
   "cell_type": "markdown",
   "id": "65f5b14f",
   "metadata": {},
   "source": [
    "### Относительное изменение кумулятивной конверсии"
   ]
  },
  {
   "cell_type": "code",
   "execution_count": 29,
   "id": "984c24fd",
   "metadata": {},
   "outputs": [
    {
     "data": {
      "image/png": "[encoded data removed]",
      "text/plain": [
       "<Figure size 1080x576 with 1 Axes>"
      ]
     },
     "metadata": {},
     "output_type": "display_data"
    }
   ],
   "source": [
    "mergedCumulativeConversions = cumulativeDataA[['date','conversion']].merge(\n",
    "    cumulativeDataB[['date','conversion']], left_on='date', \n",
    "    right_on='date', how='left', suffixes=['A', 'B']\n",
    ")\n",
    "\n",
    "plt.plot(\n",
    "    mergedCumulativeConversions['date'], \n",
    "    mergedCumulativeConversions['conversionB']/mergedCumulativeConversions['conversionA']-1,\n",
    "    color='red'\n",
    "    )\n",
    "\n",
    "# настроим отображение\n",
    "plt.title('Относительное изменение кумулятивной конверсии', fontsize=16)\n",
    "plt.xlabel('Время теста')\n",
    "plt.ylabel('Изменение кумулятивной конверсии')\n",
    "plt.axhline(y=0, color='black', linestyle='--')\n",
    "plt.show()"
   ]
  },
  {
   "cell_type": "markdown",
   "id": "c905f447",
   "metadata": {},
   "source": [
    "**Итоги:**\n",
    "\n",
    "В начале теста конверсия группы В проигрывала конверсии группы А. После резкого скачка вверх, она снова откатывается назад, после чего демонстрирует уверенный рост. Визуальный анализ позволяет предварительно предупредить наличие выбросов в группе А в начале теста и в группе В в следующий период."
   ]
  },
  {
   "cell_type": "markdown",
   "id": "3a8b39e2",
   "metadata": {},
   "source": [
    "<div class=\"alert alert-success\">\n",
    "<b>Комментарий ревьюера:</b> Превосходно, все графики и выводы к ним правильные.\n",
    "</div>"
   ]
  },
  {
   "cell_type": "markdown",
   "id": "50d8ed3a",
   "metadata": {},
   "source": [
    "### Точечный график количества заказов по пользователям"
   ]
  },
  {
   "cell_type": "code",
   "execution_count": 30,
   "id": "16339609",
   "metadata": {},
   "outputs": [
    {
     "data": {
      "text/html": [
       "<div>\n",
       "<style scoped>\n",
       "    .dataframe tbody tr th:only-of-type {\n",
       "        vertical-align: middle;\n",
       "    }\n",
       "\n",
       "    .dataframe tbody tr th {\n",
       "        vertical-align: top;\n",
       "    }\n",
       "\n",
       "    .dataframe thead th {\n",
       "        text-align: right;\n",
       "    }\n",
       "</style>\n",
       "<table border=\"1\" class=\"dataframe\">\n",
       "  <thead>\n",
       "    <tr style=\"text-align: right;\">\n",
       "      <th></th>\n",
       "      <th>transactionid</th>\n",
       "      <th>visitorid</th>\n",
       "      <th>date</th>\n",
       "      <th>revenue</th>\n",
       "      <th>group</th>\n",
       "    </tr>\n",
       "  </thead>\n",
       "  <tbody>\n",
       "    <tr>\n",
       "      <th>7</th>\n",
       "      <td>2626614568</td>\n",
       "      <td>78758296</td>\n",
       "      <td>2019-08-15</td>\n",
       "      <td>1044</td>\n",
       "      <td>A</td>\n",
       "    </tr>\n",
       "    <tr>\n",
       "      <th>8</th>\n",
       "      <td>1576988021</td>\n",
       "      <td>295230930</td>\n",
       "      <td>2019-08-15</td>\n",
       "      <td>13710</td>\n",
       "      <td>A</td>\n",
       "    </tr>\n",
       "    <tr>\n",
       "      <th>10</th>\n",
       "      <td>3649131742</td>\n",
       "      <td>879864040</td>\n",
       "      <td>2019-08-15</td>\n",
       "      <td>4008</td>\n",
       "      <td>A</td>\n",
       "    </tr>\n",
       "    <tr>\n",
       "      <th>12</th>\n",
       "      <td>2809384911</td>\n",
       "      <td>3213223594</td>\n",
       "      <td>2019-08-15</td>\n",
       "      <td>7370</td>\n",
       "      <td>A</td>\n",
       "    </tr>\n",
       "    <tr>\n",
       "      <th>14</th>\n",
       "      <td>3859315276</td>\n",
       "      <td>1565034404</td>\n",
       "      <td>2019-08-15</td>\n",
       "      <td>10980</td>\n",
       "      <td>A</td>\n",
       "    </tr>\n",
       "    <tr>\n",
       "      <th>...</th>\n",
       "      <td>...</td>\n",
       "      <td>...</td>\n",
       "      <td>...</td>\n",
       "      <td>...</td>\n",
       "      <td>...</td>\n",
       "    </tr>\n",
       "    <tr>\n",
       "      <th>1185</th>\n",
       "      <td>948555526</td>\n",
       "      <td>2710193528</td>\n",
       "      <td>2019-08-14</td>\n",
       "      <td>730</td>\n",
       "      <td>A</td>\n",
       "    </tr>\n",
       "    <tr>\n",
       "      <th>1187</th>\n",
       "      <td>2274188238</td>\n",
       "      <td>132143192</td>\n",
       "      <td>2019-08-14</td>\n",
       "      <td>750</td>\n",
       "      <td>A</td>\n",
       "    </tr>\n",
       "    <tr>\n",
       "      <th>1188</th>\n",
       "      <td>1692103379</td>\n",
       "      <td>1022829655</td>\n",
       "      <td>2019-08-14</td>\n",
       "      <td>112</td>\n",
       "      <td>A</td>\n",
       "    </tr>\n",
       "    <tr>\n",
       "      <th>1193</th>\n",
       "      <td>2203539145</td>\n",
       "      <td>370388673</td>\n",
       "      <td>2019-08-14</td>\n",
       "      <td>3190</td>\n",
       "      <td>A</td>\n",
       "    </tr>\n",
       "    <tr>\n",
       "      <th>1194</th>\n",
       "      <td>1807773912</td>\n",
       "      <td>573423106</td>\n",
       "      <td>2019-08-14</td>\n",
       "      <td>10550</td>\n",
       "      <td>A</td>\n",
       "    </tr>\n",
       "  </tbody>\n",
       "</table>\n",
       "<p>468 rows × 5 columns</p>\n",
       "</div>"
      ],
      "text/plain": [
       "      transactionid   visitorid       date  revenue group\n",
       "7        2626614568    78758296 2019-08-15     1044     A\n",
       "8        1576988021   295230930 2019-08-15    13710     A\n",
       "10       3649131742   879864040 2019-08-15     4008     A\n",
       "12       2809384911  3213223594 2019-08-15     7370     A\n",
       "14       3859315276  1565034404 2019-08-15    10980     A\n",
       "...             ...         ...        ...      ...   ...\n",
       "1185      948555526  2710193528 2019-08-14      730     A\n",
       "1187     2274188238   132143192 2019-08-14      750     A\n",
       "1188     1692103379  1022829655 2019-08-14      112     A\n",
       "1193     2203539145   370388673 2019-08-14     3190     A\n",
       "1194     1807773912   573423106 2019-08-14    10550     A\n",
       "\n",
       "[468 rows x 5 columns]"
      ]
     },
     "execution_count": 30,
     "metadata": {},
     "output_type": "execute_result"
    }
   ],
   "source": [
    "orders.query('group == \"A\"')"
   ]
  },
  {
   "cell_type": "code",
   "execution_count": 31,
   "id": "0f866f85",
   "metadata": {},
   "outputs": [
    {
     "name": "stdout",
     "output_type": "stream",
     "text": [
      "      visitorid  orders\n",
      "58    611059232       3\n",
      "211  2108163459       3\n",
      "310  2988190573       3\n",
      "409  3908431265       3\n",
      "416  3967698036       3\n",
      "302  2892265953       2\n",
      "374  3469608676       2\n",
      "72    759473111       2\n",
      "286  2744017357       2\n",
      "282  2733145037       2\n"
     ]
    }
   ],
   "source": [
    "# сформируем два фрейма для графика\n",
    "# фрейм для группы А\n",
    "ordersByUsersA = (\n",
    "    orders.query('group == \"A\"')\n",
    "    .drop(['group', 'revenue', 'date'], axis=1)\n",
    "    .groupby('visitorid', as_index=False)\n",
    "    .agg({'transactionid': pd.Series.nunique})\n",
    ")\n",
    "\n",
    "ordersByUsersA.columns = ['visitorid', 'orders']\n",
    "\n",
    "print(ordersByUsersA.sort_values(by='orders', ascending=False).head(10))"
   ]
  },
  {
   "cell_type": "code",
   "execution_count": 32,
   "id": "efd6701b",
   "metadata": {},
   "outputs": [
    {
     "name": "stdout",
     "output_type": "stream",
     "text": [
      "      visitorid  orders\n",
      "347  2742574263       3\n",
      "33    249864742       3\n",
      "486  3935952912       2\n",
      "256  2025197455       2\n",
      "418  3332057097       2\n",
      "51    406208401       2\n",
      "507  4134830387       2\n",
      "250  1985475298       2\n",
      "296  2366521417       2\n",
      "421  3362039251       2\n"
     ]
    }
   ],
   "source": [
    "# фрейм для группы А\n",
    "ordersByUsersB = (\n",
    "    orders.query('group == \"B\"')\n",
    "    .drop(['group', 'revenue', 'date'], axis=1)\n",
    "    .groupby('visitorid', as_index=False)\n",
    "    .agg({'transactionid': pd.Series.nunique})\n",
    ")\n",
    "\n",
    "ordersByUsersB.columns = ['visitorid', 'orders']\n",
    "\n",
    "print(ordersByUsersB.sort_values(by='orders', ascending=False).head(10))"
   ]
  },
  {
   "cell_type": "code",
   "execution_count": 33,
   "id": "301f869d",
   "metadata": {},
   "outputs": [
    {
     "data": {
      "image/png": "[encoded data removed]",
      "text/plain": [
       "<Figure size 1080x576 with 1 Axes>"
      ]
     },
     "metadata": {},
     "output_type": "display_data"
    }
   ],
   "source": [
    "A_values = pd.Series(range(0,len(ordersByUsersA)))\n",
    "plt.scatter(A_values, ordersByUsersA['orders'], color='r', label='Группа А')\n",
    "B_values = pd.Series(range(0,len(ordersByUsersB)))\n",
    "plt.scatter(B_values, ordersByUsersB['orders'], alpha=0.3, label='Группа В')\n",
    "\n",
    "# настроим отображение\n",
    "plt.title('Точечный график количества заказов по пользователям', fontsize=16)\n",
    "plt.xlabel('Пользователи')\n",
    "plt.ylabel('Количество заказов')\n",
    "plt.legend()\n",
    "plt.show()"
   ]
  },
  {
   "cell_type": "markdown",
   "id": "414a14a2",
   "metadata": {},
   "source": [
    "**Итоги:**\n",
    "\n",
    "Подавляющее большинство пользователей совершает 1 заказ. На втором месте достаточно массивная группа, совершающая 2 заказа. 3 и более заказа являются редкостью."
   ]
  },
  {
   "cell_type": "markdown",
   "id": "539edd68",
   "metadata": {},
   "source": [
    "### Перцентили заказов. Аномальные пользователи"
   ]
  },
  {
   "cell_type": "markdown",
   "id": "044e273e",
   "metadata": {},
   "source": [
    "Посчитаем 95-й и 99-й перцентили количества заказов на пользователя. После чего, выберем границу для определения аномальных пользователей."
   ]
  },
  {
   "cell_type": "code",
   "execution_count": 34,
   "id": "da55634a",
   "metadata": {},
   "outputs": [],
   "source": [
    "# сформируем единый датасет, содержащий сведения по заказам\n",
    "ordersByUsers = (\n",
    "    orders\n",
    "    .drop(['group', 'revenue', 'date'], axis=1)\n",
    "    .groupby('visitorid', as_index=False)\n",
    "    .agg({'transactionid': pd.Series.nunique})\n",
    ")\n",
    "\n",
    "ordersByUsers.columns = ['visitorid', 'orders']"
   ]
  },
  {
   "cell_type": "code",
   "execution_count": 35,
   "id": "b9ab5b30",
   "metadata": {},
   "outputs": [
    {
     "name": "stdout",
     "output_type": "stream",
     "text": [
      "[1. 2.]\n"
     ]
    }
   ],
   "source": [
    "print(np.percentile(ordersByUsers['orders'], [95, 99]))"
   ]
  },
  {
   "cell_type": "markdown",
   "id": "7ca3ae7c",
   "metadata": {},
   "source": [
    "**Итоги:**\n",
    "\n",
    "Для определенеия аномальных пользователей разумно выбрать пользователей, имеющих 3 и более заказов."
   ]
  },
  {
   "cell_type": "markdown",
   "id": "d01cdee8",
   "metadata": {},
   "source": [
    "### Точечный график стоимости заказа"
   ]
  },
  {
   "cell_type": "code",
   "execution_count": 36,
   "id": "c8ef5a00",
   "metadata": {},
   "outputs": [
    {
     "data": {
      "image/png": "[encoded data removed]",
      "text/plain": [
       "<Figure size 1080x576 with 2 Axes>"
      ]
     },
     "metadata": {},
     "output_type": "display_data"
    }
   ],
   "source": [
    "# выделим группу А\n",
    "A_values = pd.Series(range(0,len(orders.query('group == \"A\"')['revenue'])))\n",
    "\n",
    "# первый график\n",
    "plt.subplot(2, 1, 1)\n",
    "plt.scatter(A_values, orders.query('group == \"A\"')['revenue'], color='r', label='Группа А')\n",
    "\n",
    "# выделим группу В\n",
    "B_values = pd.Series(range(0,len(orders.query('group == \"B\"')['revenue'])))\n",
    "plt.scatter(B_values, orders.query('group == \"B\"')['revenue'], label='Группа В')\n",
    "\n",
    "\n",
    "# настроим отображение\n",
    "plt.title('Точечный график стоимости заказа', fontsize=16)\n",
    "plt.xlabel('Заказ', fontsize=13)\n",
    "plt.ylabel('Стоимость заказа', fontsize=13)\n",
    "plt.legend()\n",
    "\n",
    "# второй укрупненный график\n",
    "plt.subplot(2, 1, 2)\n",
    "plt.scatter(A_values, orders.query('group == \"A\"')['revenue'], color='r', label='Группа А')\n",
    "plt.scatter(B_values, orders.query('group == \"B\"')['revenue'], label='Группа В')\n",
    "\n",
    "# настроим отображение\n",
    "plt.ylim(-100, 100000)\n",
    "plt.title('Укрупненный точечный график стоимости заказа', fontsize=16)\n",
    "plt.xlabel('Заказ', fontsize=13)\n",
    "plt.ylabel('Стоимость заказа', fontsize=13)\n",
    "plt.legend()\n",
    "plt.tight_layout()\n",
    "\n",
    "plt.show()"
   ]
  },
  {
   "cell_type": "markdown",
   "id": "b6b7154b",
   "metadata": {},
   "source": [
    "**Итоги:**\n",
    "\n",
    "Как и предполагалось, есть два значительноых выброса, а также большое количество средних заказов. Чтобы определить пограничные цифры, подсчитаем перцентили."
   ]
  },
  {
   "cell_type": "markdown",
   "id": "ffdda368",
   "metadata": {},
   "source": [
    "### Перцентили стоимости заказов. Аномальные заказы"
   ]
  },
  {
   "cell_type": "code",
   "execution_count": 37,
   "id": "b21da182",
   "metadata": {},
   "outputs": [
    {
     "name": "stdout",
     "output_type": "stream",
     "text": [
      "[28000.  58233.2]\n"
     ]
    }
   ],
   "source": [
    "print(np.percentile(data['revenue'], [95, 99]))"
   ]
  },
  {
   "cell_type": "markdown",
   "id": "9802eaa1",
   "metadata": {},
   "source": [
    "**Итоги:**\n",
    "\n",
    "95% пользователей осуществляли заказыв на сумму менее 28000. Сумма 58233.2, характерная для 99% пользователей, значительно выше (в 2 раза), чем 95% заказов. Поэтому остановимся на сумме 28000, чтобы определить порог для отсеивания аномальных заказов."
   ]
  },
  {
   "cell_type": "markdown",
   "id": "05f14d0c",
   "metadata": {},
   "source": [
    "### Формирование гипотез для анализа А/В-теста"
   ]
  },
  {
   "cell_type": "markdown",
   "id": "13ae8d37",
   "metadata": {},
   "source": [
    "Для проведения анализа установим уровень статистической значимости, равный 5% (alpha = 0.05). \n",
    "\n",
    "Также, определим гипотезы для проверки."
   ]
  },
  {
   "cell_type": "markdown",
   "id": "2df70981",
   "metadata": {},
   "source": [
    "#### Гипотезы для конверсии"
   ]
  },
  {
   "cell_type": "markdown",
   "id": "98b7657c",
   "metadata": {},
   "source": [
    "$H_0$ Статистически значимых различий в конверсии между группой А и группой В нет.\n",
    "\n",
    "$H_1$ Статистически значимые различия в конверсии между группой А и группой В есть."
   ]
  },
  {
   "cell_type": "markdown",
   "id": "9e545e0e",
   "metadata": {},
   "source": [
    "#### Гипотезы для среднего чека"
   ]
  },
  {
   "cell_type": "markdown",
   "id": "bae28473",
   "metadata": {},
   "source": [
    "$H_0$ Статистически значимых различий в среднем чеке между группой А и группой В нет.\n",
    "\n",
    "$H_1$ Статистически значимые различия в среднем чеке между группой А и группой В есть."
   ]
  },
  {
   "cell_type": "markdown",
   "id": "4f3a003e",
   "metadata": {},
   "source": [
    "### Статистическая значимость в конверсии по сырым данным"
   ]
  },
  {
   "cell_type": "markdown",
   "id": "9c12036a",
   "metadata": {},
   "source": [
    "Посчитаем статистическую значимость без удаления аномальных пользователей, чтобы затем сравнить ее с результатами анализа \"очищенных\" данных.\n",
    "\n",
    "Для этого подготовим данные в единый датафрейм."
   ]
  },
  {
   "cell_type": "code",
   "execution_count": 38,
   "id": "592bed0c",
   "metadata": {},
   "outputs": [
    {
     "data": {
      "text/html": [
       "<div>\n",
       "<style scoped>\n",
       "    .dataframe tbody tr th:only-of-type {\n",
       "        vertical-align: middle;\n",
       "    }\n",
       "\n",
       "    .dataframe tbody tr th {\n",
       "        vertical-align: top;\n",
       "    }\n",
       "\n",
       "    .dataframe thead th {\n",
       "        text-align: right;\n",
       "    }\n",
       "</style>\n",
       "<table border=\"1\" class=\"dataframe\">\n",
       "  <thead>\n",
       "    <tr style=\"text-align: right;\">\n",
       "      <th></th>\n",
       "      <th>date</th>\n",
       "      <th>ordersPerDateA</th>\n",
       "      <th>revenuePerDateA</th>\n",
       "      <th>ordersPerDateB</th>\n",
       "      <th>revenuePerDateB</th>\n",
       "      <th>ordersCummulativeA</th>\n",
       "      <th>revenueCummulativeA</th>\n",
       "      <th>ordersCummulativeB</th>\n",
       "      <th>revenueCummulativeB</th>\n",
       "      <th>visitorsPerDateA</th>\n",
       "      <th>visitorsPerDateB</th>\n",
       "      <th>visitorsCummulativeA</th>\n",
       "      <th>visitorsCummulativeB</th>\n",
       "    </tr>\n",
       "  </thead>\n",
       "  <tbody>\n",
       "    <tr>\n",
       "      <th>0</th>\n",
       "      <td>2019-08-01</td>\n",
       "      <td>23</td>\n",
       "      <td>142779</td>\n",
       "      <td>17</td>\n",
       "      <td>59758</td>\n",
       "      <td>23</td>\n",
       "      <td>142779</td>\n",
       "      <td>17</td>\n",
       "      <td>59758</td>\n",
       "      <td>719</td>\n",
       "      <td>713</td>\n",
       "      <td>719</td>\n",
       "      <td>713</td>\n",
       "    </tr>\n",
       "    <tr>\n",
       "      <th>1</th>\n",
       "      <td>2019-08-02</td>\n",
       "      <td>19</td>\n",
       "      <td>91602</td>\n",
       "      <td>23</td>\n",
       "      <td>162043</td>\n",
       "      <td>42</td>\n",
       "      <td>234381</td>\n",
       "      <td>40</td>\n",
       "      <td>221801</td>\n",
       "      <td>619</td>\n",
       "      <td>581</td>\n",
       "      <td>1338</td>\n",
       "      <td>1294</td>\n",
       "    </tr>\n",
       "    <tr>\n",
       "      <th>2</th>\n",
       "      <td>2019-08-03</td>\n",
       "      <td>24</td>\n",
       "      <td>112473</td>\n",
       "      <td>14</td>\n",
       "      <td>67049</td>\n",
       "      <td>66</td>\n",
       "      <td>346854</td>\n",
       "      <td>54</td>\n",
       "      <td>288850</td>\n",
       "      <td>507</td>\n",
       "      <td>509</td>\n",
       "      <td>1845</td>\n",
       "      <td>1803</td>\n",
       "    </tr>\n",
       "    <tr>\n",
       "      <th>3</th>\n",
       "      <td>2019-08-04</td>\n",
       "      <td>11</td>\n",
       "      <td>41176</td>\n",
       "      <td>14</td>\n",
       "      <td>96890</td>\n",
       "      <td>77</td>\n",
       "      <td>388030</td>\n",
       "      <td>68</td>\n",
       "      <td>385740</td>\n",
       "      <td>717</td>\n",
       "      <td>770</td>\n",
       "      <td>2562</td>\n",
       "      <td>2573</td>\n",
       "    </tr>\n",
       "    <tr>\n",
       "      <th>4</th>\n",
       "      <td>2019-08-05</td>\n",
       "      <td>22</td>\n",
       "      <td>86383</td>\n",
       "      <td>21</td>\n",
       "      <td>89908</td>\n",
       "      <td>99</td>\n",
       "      <td>474413</td>\n",
       "      <td>89</td>\n",
       "      <td>475648</td>\n",
       "      <td>756</td>\n",
       "      <td>707</td>\n",
       "      <td>3318</td>\n",
       "      <td>3280</td>\n",
       "    </tr>\n",
       "  </tbody>\n",
       "</table>\n",
       "</div>"
      ],
      "text/plain": [
       "        date  ordersPerDateA  revenuePerDateA  ordersPerDateB  \\\n",
       "0 2019-08-01              23           142779              17   \n",
       "1 2019-08-02              19            91602              23   \n",
       "2 2019-08-03              24           112473              14   \n",
       "3 2019-08-04              11            41176              14   \n",
       "4 2019-08-05              22            86383              21   \n",
       "\n",
       "   revenuePerDateB  ordersCummulativeA  revenueCummulativeA  \\\n",
       "0            59758                  23               142779   \n",
       "1           162043                  42               234381   \n",
       "2            67049                  66               346854   \n",
       "3            96890                  77               388030   \n",
       "4            89908                  99               474413   \n",
       "\n",
       "   ordersCummulativeB  revenueCummulativeB  visitorsPerDateA  \\\n",
       "0                  17                59758               719   \n",
       "1                  40               221801               619   \n",
       "2                  54               288850               507   \n",
       "3                  68               385740               717   \n",
       "4                  89               475648               756   \n",
       "\n",
       "   visitorsPerDateB  visitorsCummulativeA  visitorsCummulativeB  \n",
       "0               713                   719                   713  \n",
       "1               581                  1338                  1294  \n",
       "2               509                  1845                  1803  \n",
       "3               770                  2562                  2573  \n",
       "4               707                  3318                  3280  "
      ]
     },
     "metadata": {},
     "output_type": "display_data"
    }
   ],
   "source": [
    "# создадим фреймы, содержащие посетителей, разбитых по групам\n",
    "# начнем с группы А\n",
    "visitorsADaily = visitors[visitors['group'] == 'A'][['date', 'visitors']]\n",
    "visitorsADaily.columns = ['date', 'visitorsPerDateA']\n",
    "\n",
    "# посчитаем кумулятивных посетителей\n",
    "visitorsACummulative = visitorsADaily.apply(\n",
    "    lambda x: visitorsADaily[visitorsADaily['date'] <= x['date']].agg(\n",
    "        {'date': 'max', 'visitorsPerDateA': 'sum'}\n",
    "    ),\n",
    "    axis=1,\n",
    ")\n",
    "visitorsACummulative.columns = ['date', 'visitorsCummulativeA']\n",
    "\n",
    "# повторим процедуру для группы В\n",
    "visitorsBDaily = visitors[visitors['group'] == 'B'][['date', 'visitors']]\n",
    "visitorsBDaily.columns = ['date', 'visitorsPerDateB']\n",
    "\n",
    "visitorsBCummulative = visitorsBDaily.apply(\n",
    "    lambda x: visitorsBDaily[visitorsBDaily['date'] <= x['date']].agg(\n",
    "        {'date': 'max', 'visitorsPerDateB': 'sum'}\n",
    "    ),\n",
    "    axis=1,\n",
    ")\n",
    "visitorsBCummulative.columns = ['date', 'visitorsCummulativeB']\n",
    "\n",
    "# сформируем датафрейм с уникальными заказами для группы А\n",
    "ordersADaily = (\n",
    "    orders[orders['group'] == 'A'][['date', 'transactionid', 'visitorid', 'revenue']]\n",
    "    .groupby('date', as_index=False)\n",
    "    .agg({'transactionid': pd.Series.nunique, 'revenue': 'sum'})\n",
    ")\n",
    "ordersADaily.columns = ['date', 'ordersPerDateA', 'revenuePerDateA']\n",
    "\n",
    "# посчитаем суммы заказов\n",
    "ordersACummulative = ordersADaily.apply(\n",
    "    lambda x: ordersADaily[ordersADaily['date'] <= x['date']].agg(\n",
    "        {'date': 'max', 'ordersPerDateA': 'sum', 'revenuePerDateA': 'sum'}\n",
    "    ),\n",
    "    axis=1,\n",
    ").sort_values(by=['date'])\n",
    "\n",
    "ordersACummulative.columns = [\n",
    "    'date',\n",
    "    'ordersCummulativeA',\n",
    "    'revenueCummulativeA',\n",
    "]\n",
    "\n",
    "# повторим процедуру для группы В\n",
    "ordersBDaily = (\n",
    "    orders[orders['group'] == 'B'][['date', 'transactionid', 'visitorid', 'revenue']]\n",
    "    .groupby('date', as_index=False)\n",
    "    .agg({'transactionid': pd.Series.nunique, 'revenue': 'sum'})\n",
    ")\n",
    "ordersBDaily.columns = ['date', 'ordersPerDateB', 'revenuePerDateB']\n",
    "\n",
    "ordersBCummulative = ordersBDaily.apply(\n",
    "    lambda x: ordersBDaily[ordersBDaily['date'] <= x['date']].agg(\n",
    "        {'date': 'max', 'ordersPerDateB': 'sum', 'revenuePerDateB': 'sum'}\n",
    "    ),\n",
    "    axis=1,\n",
    ").sort_values(by=['date'])\n",
    "ordersBCummulative.columns = [\n",
    "    'date',\n",
    "    'ordersCummulativeB',\n",
    "    'revenueCummulativeB',\n",
    "]\n",
    "\n",
    "# подготовим итоговый датафрейм для расчетов эффективности А/В-теста\n",
    "data = (\n",
    "    ordersADaily.merge(\n",
    "        ordersBDaily, left_on='date', right_on='date', how='left'\n",
    "    )\n",
    "    .merge(ordersACummulative, left_on='date', right_on='date', how='left')\n",
    "    .merge(ordersBCummulative, left_on='date', right_on='date', how='left')\n",
    "    .merge(visitorsADaily, left_on='date', right_on='date', how='left')\n",
    "    .merge(visitorsBDaily, left_on='date', right_on='date', how='left')\n",
    "    .merge(visitorsACummulative, left_on='date', right_on='date', how='left')\n",
    "    .merge(visitorsBCummulative, left_on='date', right_on='date', how='left')\n",
    ")\n",
    "\n",
    "# проверим результат\n",
    "display(data.head(5)) "
   ]
  },
  {
   "cell_type": "markdown",
   "id": "5fdca627",
   "metadata": {},
   "source": [
    "Для пользователей, сделавших хотя бы один заказ, укажем число совершенных заказов."
   ]
  },
  {
   "cell_type": "code",
   "execution_count": 39,
   "id": "997f2271",
   "metadata": {},
   "outputs": [],
   "source": [
    "ordersByUsersA = (\n",
    "    orders[orders['group'] == 'A']\n",
    "    .groupby('visitorid', as_index=False)\n",
    "    .agg({'transactionid': pd.Series.nunique})\n",
    ")\n",
    "ordersByUsersA.columns = ['userId', 'orders']\n",
    "\n",
    "ordersByUsersB = (\n",
    "    orders[orders['group'] == 'B']\n",
    "    .groupby('visitorid', as_index=False)\n",
    "    .agg({'transactionid': pd.Series.nunique})\n",
    ")\n",
    "ordersByUsersB.columns = ['userId', 'orders']"
   ]
  },
  {
   "cell_type": "markdown",
   "id": "2d0fbf15",
   "metadata": {},
   "source": [
    "Объявим переменные sampleA и sampleB, в которых пользователям из разных групп будет соответствовать количество заказов. Тем, кто ничего не заказал, будут соответствовать нули. Это нужно, чтобы подготовить выборки к проверке критерием Манна-Уитни."
   ]
  },
  {
   "cell_type": "code",
   "execution_count": 40,
   "id": "91f29e6d",
   "metadata": {},
   "outputs": [],
   "source": [
    "# сцепим необходимые данные через метод concat\n",
    "# для группы А\n",
    "sampleA = pd.concat(\n",
    "    [\n",
    "        ordersByUsersA['orders'],\n",
    "        pd.Series(\n",
    "            0, \n",
    "            index=np.arange(data['visitorsPerDateA'].sum() - len(ordersByUsersA['orders'])\n",
    "            ),\n",
    "            name='orders')], axis=0,\n",
    ")\n",
    "\n",
    "# для группы В\n",
    "sampleB = pd.concat(\n",
    "    [\n",
    "        ordersByUsersB['orders'],\n",
    "        pd.Series(\n",
    "            0,\n",
    "            index=np.arange(data['visitorsPerDateB'].sum() - len(ordersByUsersB['orders'])\n",
    "            ),\n",
    "            name='orders')], axis=0,\n",
    ")"
   ]
  },
  {
   "cell_type": "code",
   "execution_count": 41,
   "id": "56097b07",
   "metadata": {},
   "outputs": [],
   "source": [
    "result = stats.mannwhitneyu(sampleA, sampleB)[1]\n",
    "alpha = 0.05"
   ]
  },
  {
   "cell_type": "code",
   "execution_count": 42,
   "id": "2b670aaa",
   "metadata": {},
   "outputs": [
    {
     "name": "stdout",
     "output_type": "stream",
     "text": [
      "p-значение:  0.011\n",
      "Отвергаем нулевую гипотезу\n"
     ]
    }
   ],
   "source": [
    "print('p-значение: ', result.round(4))\n",
    "if result < alpha:\n",
    "    print(\"Отвергаем нулевую гипотезу\")\n",
    "else:\n",
    "    print(\"Не получилось отвергнуть нулевую гипотезу\") "
   ]
  },
  {
   "cell_type": "code",
   "execution_count": 43,
   "id": "fd437191",
   "metadata": {
    "scrolled": true
   },
   "outputs": [
    {
     "name": "stdout",
     "output_type": "stream",
     "text": [
      "0.1598\n"
     ]
    }
   ],
   "source": [
    "print(\"{0:.4f}\".format(\n",
    "    (data['ordersPerDateB'].sum()/data['visitorsPerDateB'].sum())\n",
    "    /(data['ordersPerDateA'].sum()/data['visitorsPerDateA'].sum())-1))"
   ]
  },
  {
   "cell_type": "markdown",
   "id": "e6d380b0",
   "metadata": {},
   "source": [
    "**Итоги:**\n",
    "\n",
    "p-value = 0.011 меньше 0.05. Значит, нулевую гипотезу о том, что статистически значимых различий в конверсии между группами нет, можно отвергнуть. \n",
    "\n",
    "Преимущество конверсии в группе В составляет 16%.\n",
    "\n",
    "Следовательно, по «сырым», можно прийти к выводу, что между группами А и В есть различия. А преимущество конверсии в 16% получено не случайным образом."
   ]
  },
  {
   "cell_type": "markdown",
   "id": "8b8240db",
   "metadata": {},
   "source": [
    "### Статистическая значимость в среднем чеке по сырым данным"
   ]
  },
  {
   "cell_type": "markdown",
   "id": "b609786c",
   "metadata": {},
   "source": [
    "Пересчитаем статистику для среднего чека по сырым данным."
   ]
  },
  {
   "cell_type": "code",
   "execution_count": 44,
   "id": "5bd5b545",
   "metadata": {},
   "outputs": [],
   "source": [
    "result = stats.mannwhitneyu(\n",
    "    orders[orders['group']=='A']['revenue'], \n",
    "    orders[orders['group']=='B']['revenue']\n",
    ")[1]\n",
    "alpha = 0.05"
   ]
  },
  {
   "cell_type": "code",
   "execution_count": 45,
   "id": "4091a358",
   "metadata": {},
   "outputs": [
    {
     "name": "stdout",
     "output_type": "stream",
     "text": [
      "p-значение:  0.8295\n",
      "Не получилось отвергнуть нулевую гипотезу\n"
     ]
    }
   ],
   "source": [
    "print('p-значение: ', result.round(4))\n",
    "if result < alpha:\n",
    "    print(\"Отвергаем нулевую гипотезу\")\n",
    "else:\n",
    "    print(\"Не получилось отвергнуть нулевую гипотезу\") "
   ]
  },
  {
   "cell_type": "code",
   "execution_count": 46,
   "id": "b9fe4fe6",
   "metadata": {},
   "outputs": [
    {
     "name": "stdout",
     "output_type": "stream",
     "text": [
      "0.287\n"
     ]
    }
   ],
   "source": [
    "print(\n",
    "    '{0:.3f}'.format(orders[orders['group']=='B']['revenue'].mean()\n",
    "                     /orders[orders['group']=='A']['revenue'].mean()-1)\n",
    ")"
   ]
  },
  {
   "cell_type": "markdown",
   "id": "3370ae23",
   "metadata": {},
   "source": [
    "**Итоги:**\n",
    "\n",
    "P-value значительно больше 0.05. Значит, причин отвергать нулевую гипотезу и считать, что в среднем чеке есть различия, нет. При этом преимущество в среднем чеке группы В значительно выше среднего чека группы А (на 29%). \n",
    "\n",
    "Можем считать это различие полученно случайным образом."
   ]
  },
  {
   "cell_type": "markdown",
   "id": "d84316e4",
   "metadata": {},
   "source": [
    "### Статистическая значимость в конверсии по очищенным данным"
   ]
  },
  {
   "cell_type": "markdown",
   "id": "e5e6caef",
   "metadata": {},
   "source": [
    "Используем расчитанные перцентили, чтобы очистить данные от выбросов. Используем статистически достоверный 95 перцентиль, для фильтрации датасета."
   ]
  },
  {
   "cell_type": "markdown",
   "id": "ebe6c31d",
   "metadata": {},
   "source": [
    "#### Очистка данных"
   ]
  },
  {
   "cell_type": "markdown",
   "id": "3b8d5e74",
   "metadata": {},
   "source": [
    "95% пользователей соответствуют указанным ниже параметрам:\n",
    "- Допустимое количество заказов на пользователя - 2;\n",
    "- Допустимая сумма заказа - до 28000."
   ]
  },
  {
   "cell_type": "code",
   "execution_count": 47,
   "id": "9d225fba",
   "metadata": {
    "scrolled": false
   },
   "outputs": [
    {
     "data": {
      "text/plain": [
       "1099    148427295\n",
       "928     204675465\n",
       "33      249864742\n",
       "684     358944393\n",
       "648     382846391\n",
       "dtype: int64"
      ]
     },
     "metadata": {},
     "output_type": "display_data"
    },
    {
     "data": {
      "text/plain": [
       "(55,)"
      ]
     },
     "metadata": {},
     "output_type": "display_data"
    }
   ],
   "source": [
    "# узнаем количество аномальных пользователей\n",
    "\n",
    "# выберем пользователей с количеством заказов 3 и более\n",
    "usersWithManyOrders = pd.concat(\n",
    "    [\n",
    "        ordersByUsersA[ordersByUsersA['orders'] > 2]['userId'],\n",
    "        ordersByUsersB[ordersByUsersB['orders'] > 2]['userId'],\n",
    "    ],\n",
    "    axis=0\n",
    ")\n",
    "\n",
    "# выберем пользователей с суммой заказа более 28000\n",
    "usersWithExpensiveOrders = orders[orders['revenue'] > 28000]['visitorid']\n",
    "\n",
    "# объединим данные в единый фрейм аномальных пользователей\n",
    "abnormalUsers = (\n",
    "    pd.concat([usersWithManyOrders, usersWithExpensiveOrders], axis=0)\n",
    "    .drop_duplicates()\n",
    "    .sort_values()\n",
    ")\n",
    "display(abnormalUsers.head(5))\n",
    "display(abnormalUsers.shape)"
   ]
  },
  {
   "cell_type": "markdown",
   "id": "b1f15806",
   "metadata": {},
   "source": [
    "**Итоги:**\n",
    "\n",
    "В массиве присутствует 55 пользователей, признанных нами аномальными. Используя эти данные, очистим датасет от выбросов и пересчитаем статистическую достоверность исследования."
   ]
  },
  {
   "cell_type": "markdown",
   "id": "bdef4d91",
   "metadata": {},
   "source": [
    "#### Оценка статистического влияния"
   ]
  },
  {
   "cell_type": "code",
   "execution_count": 48,
   "id": "cb0e5cd9",
   "metadata": {},
   "outputs": [],
   "source": [
    "# подготовим выборки, очищенные от выбросов\n",
    "# для группы А\n",
    "sampleAFiltered = pd.concat(\n",
    "    [\n",
    "        ordersByUsersA[\n",
    "            np.logical_not(ordersByUsersA['userId'].isin(abnormalUsers))\n",
    "        ]['orders'], pd.Series(0, index=np.arange(\n",
    "                data['visitorsPerDateA'].sum() - len(ordersByUsersA['orders'])\n",
    "            ), name='orders')], axis=0\n",
    ")\n",
    "\n",
    "# для группы В\n",
    "sampleBFiltered = pd.concat(\n",
    "    [\n",
    "        ordersByUsersB[\n",
    "            np.logical_not(ordersByUsersB['userId'].isin(abnormalUsers))\n",
    "        ]['orders'], pd.Series(0, index=np.arange(\n",
    "                data['visitorsPerDateB'].sum() - len(ordersByUsersB['orders'])\n",
    "            ), name='orders')], axis=0\n",
    ")"
   ]
  },
  {
   "cell_type": "code",
   "execution_count": 49,
   "id": "99912215",
   "metadata": {},
   "outputs": [],
   "source": [
    "result = stats.mannwhitneyu(sampleAFiltered, sampleBFiltered)[1]\n",
    "alpha = 0.05"
   ]
  },
  {
   "cell_type": "code",
   "execution_count": 50,
   "id": "2df0d652",
   "metadata": {},
   "outputs": [
    {
     "name": "stdout",
     "output_type": "stream",
     "text": [
      "p-значение:  0.0095\n",
      "Отвергаем нулевую гипотезу\n"
     ]
    }
   ],
   "source": [
    "print('p-значение: ', result.round(4))\n",
    "if result < alpha:\n",
    "    print(\"Отвергаем нулевую гипотезу\")\n",
    "else:\n",
    "    print(\"Не получилось отвергнуть нулевую гипотезу\") "
   ]
  },
  {
   "cell_type": "code",
   "execution_count": 51,
   "id": "7eb6124e",
   "metadata": {},
   "outputs": [
    {
     "name": "stdout",
     "output_type": "stream",
     "text": [
      "0.1886\n"
     ]
    }
   ],
   "source": [
    "print('{0:.4f}'.format(sampleBFiltered.mean()/sampleAFiltered.mean()-1))"
   ]
  },
  {
   "cell_type": "markdown",
   "id": "0700fce3",
   "metadata": {},
   "source": [
    "**Итоги:**\n",
    "\n",
    "p-value = 0.0095 меньше 0.05. Значит, нулевую гипотезу о том, что статистически значимых различий в конверсии между группами нет, можно отвергнуть. \n",
    "\n",
    "Преимущество конверсии в группе В по сравнению с сырыми данными выросло на 3% и составило 19%.\n",
    "\n",
    "Следовательно, по «очищенным» данным, можно прийти к выводу, что между группами А и В есть различия. А преимущество конверсии в 19% получено не случайным образом. Более того, избавившись от выбросов, мы только закрепили лидерство группы В в этой метрике."
   ]
  },
  {
   "cell_type": "markdown",
   "id": "ce738e44",
   "metadata": {},
   "source": [
    "### Статистическая значимость в среднем чеке по очищенным данным"
   ]
  },
  {
   "cell_type": "code",
   "execution_count": 52,
   "id": "4bcf7562",
   "metadata": {},
   "outputs": [],
   "source": [
    "result = stats.mannwhitneyu(orders[np.logical_and(orders['group'] == 'A',\n",
    "                    np.logical_not(orders['visitorid'].isin(abnormalUsers)),\n",
    "                )]['revenue'],\n",
    "            orders[np.logical_and(\n",
    "                    orders['group'] == 'B',\n",
    "                    np.logical_not(orders['visitorid'].isin(abnormalUsers)),\n",
    "                )]['revenue'])[1]\n",
    "\n",
    "alpha = 0.05"
   ]
  },
  {
   "cell_type": "code",
   "execution_count": 53,
   "id": "7b239bff",
   "metadata": {},
   "outputs": [
    {
     "name": "stdout",
     "output_type": "stream",
     "text": [
      "p-значение:  0.7617\n",
      "Не получилось отвергнуть нулевую гипотезу\n"
     ]
    }
   ],
   "source": [
    "print('p-значение: ', result.round(4))\n",
    "if result < alpha:\n",
    "    print(\"Отвергаем нулевую гипотезу\")\n",
    "else:\n",
    "    print(\"Не получилось отвергнуть нулевую гипотезу\") "
   ]
  },
  {
   "cell_type": "code",
   "execution_count": 54,
   "id": "446c0efc",
   "metadata": {
    "scrolled": true
   },
   "outputs": [
    {
     "name": "stdout",
     "output_type": "stream",
     "text": [
      "-0.0224\n"
     ]
    }
   ],
   "source": [
    "print(\n",
    "    \"{0:.4f}\".format(\n",
    "        orders[\n",
    "            np.logical_and(\n",
    "                orders['group'] == 'B',\n",
    "                np.logical_not(orders['visitorid'].isin(abnormalUsers)),\n",
    "            )\n",
    "        ]['revenue'].mean()\n",
    "        / orders[\n",
    "            np.logical_and(\n",
    "                orders['group'] == 'A',\n",
    "                np.logical_not(orders['visitorid'].isin(abnormalUsers)),\n",
    "            )\n",
    "        ]['revenue'].mean()\n",
    "        - 1\n",
    "    )\n",
    ")"
   ]
  },
  {
   "cell_type": "markdown",
   "id": "8c1d4d24",
   "metadata": {},
   "source": [
    "**Итоги:**\n",
    "\n",
    "P-value значительно больше 0.05. Значит, причин отвергать нулевую гипотезу и считать, что в среднем чеке есть различия, нет. При этом преимущество в среднем чеке группы А незначительно выше (на 2%), чем в группе В. Это коререлирует с тем фактом, что по сырым данным не удалось отвергнуть гипотезу о различии среднего чека. А различиве в 29% в пользу группы В было получено случайным образом. Как мы выяснили, за счет аномальных клиентов."
   ]
  },
  {
   "cell_type": "markdown",
   "id": "c76c8b3f",
   "metadata": {},
   "source": [
    "### Анализ результатов теста"
   ]
  },
  {
   "cell_type": "markdown",
   "id": "5e4af0cd",
   "metadata": {},
   "source": [
    "По результатам исследования материалов А/В-теста, можно прийти к следующим выводам:\n",
    "1. В выборках пристутствовали выбросы, которые искажали результаты. \n",
    "2. Путем статистического анализа, был установлен и описан портрет типичного покупателя (95% пользователей соответствуют этим критериям):\n",
    "- пользователь совершает 1-2 заказа на сумму до 28000.\n",
    "3. По результатам очистки выборок от аномалий, можно однозначно считать, что группа В превосходит группу А в показателе конверсии на 19%. \n",
    "4. И хотя на сырых данных разница между средним чеком составляла 29% в пользу группы В, после очистки данных, можно считать, что средний чек практчески не меняется между группами (разницей в 2% в пользу группы А можно пренебречь, как незначительной аномалией, учитывая статистическое подтверждение гипотезы об отсутствии разницы между средними чеками групп). \n",
    "5. Учитывая стабилизацию значений на графике, а также факт отстутствия информации о виде деятельности магазина, можно сделать предварительные выводы об исходе А/В-теста:\n",
    "- Если считать 1200 наблюдений за месяц достаточным и достоверным для вида деятельности магазина (например, если речь идет о торговле канцтоварами, то этот тест не стоит признавать успшеным и достоверным - его данные будут сильно искажены, так как наблюдения приходятся на период с 1 августа по 1 сентября), то А/В тест можно считать произведенным успешно. Гипотеза о превосходстве выручки группы В подтверждена (при отсутствии разницы в среднем чеке), а значения стабилизировались на графиках.\n",
    "- Если в виду деятельности магазина данные не могут быть признанными достоверными, то необходимо перенести и/или продлить процесс тестирования.\n",
    "6. Одни и те же пользователи попали в разные группы. Необходимо проверить процедуру формирования выборок."
   ]
  },
  {
   "cell_type": "markdown",
   "id": "74103a68",
   "metadata": {},
   "source": [
    "**Резюме:** тестируемая гипотеза не влияет на средний чек, но влияет на конверсию (увеличивая её на 19% для группы В). Тест можно считать успешно проведенным и переходить к тестированию другой гипотезы."
   ]
  }
 ],
 "metadata": {
  "ExecuteTimeLog": [
   {
    "duration": 1796,
    "start_time": "2021-10-28T14:01:44.819Z"
   },
   {
    "duration": 95,
    "start_time": "2021-10-28T14:01:46.617Z"
   },
   {
    "duration": 95,
    "start_time": "2021-10-28T14:01:46.713Z"
   },
   {
    "duration": 11,
    "start_time": "2021-10-28T14:01:46.810Z"
   },
   {
    "duration": 77,
    "start_time": "2021-10-28T14:01:46.823Z"
   },
   {
    "duration": 4,
    "start_time": "2021-10-28T14:01:46.902Z"
   },
   {
    "duration": 14,
    "start_time": "2021-10-28T14:01:46.908Z"
   },
   {
    "duration": 71,
    "start_time": "2021-10-28T14:01:46.925Z"
   },
   {
    "duration": 15,
    "start_time": "2021-10-28T14:01:46.999Z"
   },
   {
    "duration": 1218,
    "start_time": "2021-10-28T14:01:47.016Z"
   },
   {
    "duration": 58,
    "start_time": "2021-10-28T14:01:48.236Z"
   },
   {
    "duration": 112,
    "start_time": "2021-10-28T14:01:48.296Z"
   },
   {
    "duration": 12,
    "start_time": "2021-10-28T14:01:48.410Z"
   },
   {
    "duration": 101,
    "start_time": "2021-10-28T14:01:48.423Z"
   },
   {
    "duration": 5,
    "start_time": "2021-10-28T14:01:48.592Z"
   },
   {
    "duration": 641,
    "start_time": "2021-10-28T14:01:48.599Z"
   },
   {
    "duration": 4,
    "start_time": "2021-10-28T14:01:49.292Z"
   },
   {
    "duration": 1009,
    "start_time": "2021-10-28T14:01:49.298Z"
   },
   {
    "duration": 804,
    "start_time": "2021-10-28T14:01:50.309Z"
   },
   {
    "duration": 1010,
    "start_time": "2021-10-28T14:01:51.114Z"
   },
   {
    "duration": 903,
    "start_time": "2021-10-28T14:01:52.127Z"
   },
   {
    "duration": 1071,
    "start_time": "2021-10-28T14:01:53.032Z"
   },
   {
    "duration": 13,
    "start_time": "2021-10-28T14:01:54.108Z"
   },
   {
    "duration": 205,
    "start_time": "2021-10-28T14:01:54.124Z"
   },
   {
    "duration": 863,
    "start_time": "2021-10-28T14:01:54.331Z"
   },
   {
    "duration": 5,
    "start_time": "2021-10-28T14:01:55.197Z"
   },
   {
    "duration": 990,
    "start_time": "2021-10-28T14:01:55.205Z"
   },
   {
    "duration": 5,
    "start_time": "2021-10-28T14:01:56.196Z"
   },
   {
    "duration": 501,
    "start_time": "2021-10-28T14:01:56.203Z"
   },
   {
    "duration": 289,
    "start_time": "2021-10-28T14:01:56.706Z"
   },
   {
    "duration": 6,
    "start_time": "2021-10-28T14:01:56.996Z"
   },
   {
    "duration": 10,
    "start_time": "2021-10-28T14:01:57.004Z"
   },
   {
    "duration": 4,
    "start_time": "2021-10-28T14:01:57.015Z"
   },
   {
    "duration": 5,
    "start_time": "2021-10-28T14:01:57.021Z"
   },
   {
    "duration": 69,
    "start_time": "2021-10-28T14:01:57.028Z"
   },
   {
    "duration": 5,
    "start_time": "2021-10-28T14:01:57.098Z"
   },
   {
    "duration": 7,
    "start_time": "2021-10-28T14:01:57.105Z"
   },
   {
    "duration": 11,
    "start_time": "2021-10-28T14:01:57.114Z"
   },
   {
    "duration": 75,
    "start_time": "2021-10-28T14:01:57.127Z"
   },
   {
    "duration": 10,
    "start_time": "2021-10-28T14:01:57.204Z"
   },
   {
    "duration": 7,
    "start_time": "2021-10-28T14:01:57.216Z"
   },
   {
    "duration": 3,
    "start_time": "2021-10-28T14:01:57.225Z"
   },
   {
    "duration": 63,
    "start_time": "2021-10-28T14:01:57.230Z"
   },
   {
    "duration": 10,
    "start_time": "2021-10-28T14:01:57.295Z"
   },
   {
    "duration": 7,
    "start_time": "2021-10-28T14:01:57.306Z"
   },
   {
    "duration": 9,
    "start_time": "2021-10-28T14:01:57.315Z"
   },
   {
    "duration": 417,
    "start_time": "2021-10-29T13:40:47.199Z"
   }
  ],
  "kernelspec": {
   "display_name": "Python 3 (ipykernel)",
   "language": "python",
   "name": "python3"
  },
  "language_info": {
   "codemirror_mode": {
    "name": "ipython",
    "version": 3
   },
   "file_extension": ".py",
   "mimetype": "text/x-python",
   "name": "python",
   "nbconvert_exporter": "python",
   "pygments_lexer": "ipython3",
   "version": "3.7.11"
  },
  "toc": {
   "base_numbering": 1,
   "nav_menu": {},
   "number_sections": true,
   "sideBar": true,
   "skip_h1_title": true,
   "title_cell": "Table of Contents",
   "title_sidebar": "Contents",
   "toc_cell": true,
   "toc_position": {
    "height": "calc(100% - 180px)",
    "left": "10px",
    "top": "150px",
    "width": "303.837px"
   },
   "toc_section_display": true,
   "toc_window_display": true
  }
 },
 "nbformat": 4,
 "nbformat_minor": 5
}
